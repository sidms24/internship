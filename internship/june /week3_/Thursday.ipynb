{
  "nbformat": 4,
  "nbformat_minor": 0,
  "metadata": {
    "colab": {
      "provenance": [],
      "machine_shape": "hm",
      "authorship_tag": "ABX9TyNYEyDRPaiCmZFsCNgS2kK9",
      "include_colab_link": true
    },
    "kernelspec": {
      "name": "python3",
      "display_name": "Python 3"
    },
    "language_info": {
      "name": "python"
    }
  },
  "cells": [
    {
      "cell_type": "markdown",
      "metadata": {
        "id": "view-in-github",
        "colab_type": "text"
      },
      "source": [
        "<a href=\"https://colab.research.google.com/github/sidms24/internship/blob/main/internship/june%20/week3_/Thursday.ipynb\" target=\"_parent\"><img src=\"https://colab.research.google.com/assets/colab-badge.svg\" alt=\"Open In Colab\"/></a>"
      ]
    },
    {
      "cell_type": "code",
      "source": [
        "import jax.numpy as jnp\n",
        "import jax\n",
        "from tqdm import tqdm\n",
        "import pandas as pd\n",
        "import numpy as np\n",
        "import lpips_jax"
      ],
      "metadata": {
        "id": "qk82RHQQb_4q"
      },
      "execution_count": 1,
      "outputs": []
    },
    {
      "cell_type": "code",
      "source": [
        "class Convlayer:\n",
        "  def __init__(self,din, dout, kernel_size,key, stride = 1, padding=0 ):\n",
        "    weights_key, bias_key = jax.random.split(key)\n",
        "    limit = jnp.sqrt(6 / (din + dout))\n",
        "    stdv = 1. / jnp.sqrt(din * kernel_size * kernel_size)\n",
        "    self.W = jax.random.uniform(weights_key, (dout, din, kernel_size, kernel_size), minval=-limit, maxval=limit)\n",
        "    self.b = jax.random.uniform(bias_key, (dout,), minval=-limit, maxval=limit)\n",
        "  def forward(self, x):\n",
        "    self.x = x\n",
        "    dim_num = ('NCHW', 'OIHW', 'NCHW')\n",
        "    return jax.lax.conv_general_dilated(x, self.W, (self.stride, self.stride), self.padding, dim_num)\n",
        "\n",
        "  def forward_transpose(self, x):\n",
        "    self.x = x\n",
        "    dim_num = ('NCHW', 'OIHw', 'NCHW')\n",
        "    return jax.lax.conv_transpose(x, self.W, (self.stride, self.stride), self.padding, dim_num)\n",
        ""
      ],
      "metadata": {
        "id": "steylAUnAH_Q"
      },
      "execution_count": 2,
      "outputs": []
    },
    {
      "cell_type": "code",
      "source": [
        "class Encoder:\n",
        "  def __init__(self, din, dout,latent_dim, key, stride = 1, padding=0):\n",
        "    keys = jax.random.split(key, 6)\n",
        "    self.latent_dim = latent_dim\n",
        "    self.conv1 = Convlayer(din, dout, 3, keys[0], stride, padding)\n",
        "    self.conv2 = Convlayer(dout, dout, 3, keys[1], stride, padding)\n",
        "    self.conv3 = Convlayer(dout, dout, 3, keys[2], stride, padding)\n",
        "    self.conv4 = Convlayer(dout, dout, 3, keys[3], stride, padding)\n",
        "    self.conv5 = Convlayer(dout, dout, 3, keys[4], stride, padding)\n",
        "    self.conv_out = Convlayer(dout, latent_dim * 2, 3, keys[5], stride, padding)\n",
        "\n",
        "  @property\n",
        "  def params(self):\n",
        "    return {'conv1': self.conv1.params, 'conv2': self.conv2.params, 'conv3': self.conv3.params,\n",
        "            'conv4': self.conv4.params, 'conv5': self.conv5.params, 'conv_out':self.conv_out.params}\n",
        "  def __call__(self, params, x):\n",
        "    x = self.conv1(params['conv1'], x)\n",
        "    x = self.conv2(params['conv2'], x)\n",
        "    x = self.conv3(params['conv3'], x)\n",
        "    x = self.conv4(params['conv4'], x)\n",
        "    x = self.conv5(params['conv5'], x)\n",
        "    x_out = self.conv_out(params['conv_out'], x)\n",
        "    mu, logvar = jnp.split(x_out, 2, axis = 1)\n",
        "    return mu, logvar\n",
        "\n"
      ],
      "metadata": {
        "id": "mBvdyNbKh0Yp"
      },
      "execution_count": 17,
      "outputs": []
    },
    {
      "cell_type": "code",
      "source": [
        "class DGAE:\n",
        "  def __init__(self, din, dout, latent_dim, key):\n",
        "    enc_key, dec_key = jax.random.split(key, 2)\n",
        "    self.encoder = Encoder(din, dout,latent_dim, enc_key)\n",
        "    self.decoder = diffusionUnet(dout, din, dec_key, latent_dim=latent_dim)\n",
        "\n",
        "    self.noise_schedule = noiseschedule()\n",
        "    self.key = key\n",
        "\n",
        "  @property\n",
        "  def params(self):\n",
        "    return {'encoder': self.encoder.params, 'decoder': self.decoder.params,\n",
        "            'noise_schedule': self.noise_schedule.params}\n",
        "\n",
        "  def reparameterize(self, mu, logvar):\n",
        "    std = jnp.exp(0.5 * logvar)\n",
        "    eps = jax.random.normal(self.key, std.shape)\n",
        "    return mu + eps * std\n",
        "\n",
        "  def __call__(self, params, x, rng):\n",
        "    mu, logvar = self.encoder(params['encoder'], x)\n",
        "    z = self.reparameterize(mu, logvar)\n",
        "\n",
        "    t = jax.random.randint(rng, (x.shape[0],), 0, self.noise_schedule.num_timesteps)\n",
        "    noise = jax.random.normal(rng, x.shape)\n",
        "    x_noisy = self.noise_schedule(rng, x, t)\n",
        "    x_pred = self.decoder(params['decoder'], x_noisy, t, z)\n",
        "\n",
        "    return x_pred, noise, mu, logvar\n",
        "\n"
      ],
      "metadata": {
        "id": "SeJKMRtWr0hz"
      },
      "execution_count": 12,
      "outputs": []
    },
    {
      "cell_type": "code",
      "source": [
        "class groupnorm:\n",
        "  def __init__(self, channels, num_groups = 32, key = None):\n",
        "    self.gamma = jnp.ones((1, channels, 1, 1))\n",
        "    self.beta = jnp.zeros((1, channels, 1, 1))\n",
        "    self.num_groups = min(num_groups, channels)\n",
        "\n",
        "  @property\n",
        "  def params(self):\n",
        "    return {'gamma': self.gamma, 'beta': self.beta}\n",
        "\n",
        "  def __call__(self, params, x):\n",
        "    N, C, H, W = x.shape\n",
        "    G = self.num_groups\n",
        "    x = x.reshape(N, G, C // G, H, W)\n",
        "    mean, var = jnp.mean(x, axis=(2, 3, 4), keepdims=True), jnp.var(x, axis=(2, 3, 4), keepdims=True)\n",
        "    x = (x - mean) / jnp.sqrt(var + 1e-5)\n",
        "    x = x.reshape(N, C, H, W)\n",
        "    return x * params['gamma'] + params['beta']"
      ],
      "metadata": {
        "id": "ZPb9od4hiyMP"
      },
      "execution_count": 5,
      "outputs": []
    },
    {
      "cell_type": "code",
      "source": [
        "class resblock:\n",
        "  def __init__(self, din, dout, key,timembed_dim = 512, stride = 1, padding=1):\n",
        "    keys = jax.random.split(key, 4)\n",
        "    self.conv1 = Convlayer(din, dout, 3, keys[0], stride, padding)\n",
        "    self.conv2 = Convlayer(dout, dout, 3, keys[1], stride, padding)\n",
        "    self.norm1 = groupnorm(dout, keys[2])\n",
        "    self.norm2 = groupnorm(dout, keys[3])\n",
        "    self.emb_proj = MLP(timembed_dim, dout, keys[3])\n",
        "\n",
        "  @property\n",
        "  def params(self):\n",
        "    return {'conv1': self.conv1.params, 'conv2': self.conv2.params,\n",
        "            'norm1': self.norm1.params, 'norm2': self.norm2.params,\n",
        "            'emb_proj': self.emb_proj.params}\n",
        "\n",
        "  def __call__(self, params, x, t):\n",
        "    residual = x\n",
        "    x = self.norm1(params['norm1'], x)\n",
        "    x = jax.nn.relu(x)\n",
        "    x = self.conv1(params['conv1'], x)\n",
        "    x = self.norm2(params['norm2'], x)\n",
        "    x = jax.nn.relu(x)\n",
        "    x = self.conv2(params['conv2'], x)\n",
        "    return x + self.emb_proj(params['emb_proj'], t) + residual"
      ],
      "metadata": {
        "id": "AkCFvT3Hk34p"
      },
      "execution_count": 6,
      "outputs": []
    },
    {
      "cell_type": "code",
      "source": [
        "class timeEmbed:\n",
        "  def __init__(self, dim, key):\n",
        "    keys = jax.random.split(key, 2)\n",
        "    self.linear1 = MLP(dim, dim * 4, keys[0])\n",
        "    self.linear2 = MLP(dim * 4, dim, keys[1])\n",
        "\n",
        "  @property\n",
        "  def params(self):\n",
        "    return {'linear1': self.linear1.params, 'linear2': self.linear2.params}\n",
        "\n",
        "  def __call__(self, params, t):\n",
        "    t = jnp.array(t)\n",
        "    t = self.linear1(params['linear1'], t)\n",
        "    t = jax.nn.swish(t)\n",
        "    t = self.linear2(params['linear2'], t)\n",
        "    return t"
      ],
      "metadata": {
        "id": "ne88yknDlukN"
      },
      "execution_count": 7,
      "outputs": []
    },
    {
      "cell_type": "code",
      "source": [
        "class diffusionUnet:\n",
        "  def __init__(self, din, dout, latent_dim, key):\n",
        "    keys = jax.random.split(key, 11)\n",
        "    self.time_embed = timeEmbed(512, keys[0])\n",
        "    time_dim = dout *4\n",
        "    self.latent_dim = latent_dim\n",
        "\n",
        "    self.first_conv = Convlayer(din + latent_dim, dout, 3, keys[1], padding = 1)\n",
        "\n",
        "    self.down1 = resblock(dout, dout * 2, keys[2], time_dim)\n",
        "    self.down2 = resblock(dout * 2, dout * 4, keys[3], time_dim)\n",
        "    self.down3 = resblock(dout * 4, dout * 8, keys[4], time_dim)\n",
        "\n",
        "    self.middle1 = resblock(dout * 8, dout * 8, keys[5],time_dim)\n",
        "    self.middle2 = resblock(dout * 8, dout * 8, keys[6],time_dim)\n",
        "\n",
        "\n",
        "\n",
        "    self.up1 = resblock(dout * 8 + dout * 8, dout * 4, keys[7], time_dim)\n",
        "    self.up2 = resblock(dout * 4 + dout * 4, dout * 2, keys[8], time_dim)\n",
        "    self.up3 = resblock(dout * 2 + dout * 2, dout, keys[9], time_dim)\n",
        "\n",
        "    self.out_conv = Convlayer(dout, din, 3, keys[10], padding = 1)\n",
        "\n",
        "  @property\n",
        "  def params(self):\n",
        "    return {'time_embed': self.time_embed.params, 'first_conv': self.first_conv.params,\n",
        "            'down1': self.down1.params, 'down2': self.down2.params, 'down3': self.down3.params,\n",
        "            'middle1': self.middle1.params, 'middle2': self.middle2.params,\n",
        "            'up1': self.up1.params, 'up2': self.up2.params, 'up3': self.up3.params,\n",
        "            'out_conv': self.out_conv.params}\n",
        "  def __call__(self, params, x, t, z):\n",
        "    z_up = jax.image.resize(z, x.shape, method= 'nearest')\n",
        "    x_con = jnp.concatenate([x, z_up], axis = 1)\n",
        "    t = self.time_embed(params['time_embed'], t)\n",
        "    x = self.first_conv(params['first_conv'], x_con)\n",
        "\n",
        "\n",
        "\n",
        "    d1 = self.down1(params['down1'], x, t)\n",
        "    d2 = self.down2(params['down2'], d1, t)\n",
        "    d3 = self.down3(params['down3'], d2, t)\n",
        "\n",
        "\n",
        "    m1 = self.middle1(params['middle1'], d3, t)\n",
        "    m2 = self.middle2(params['middle2'], m1, t)\n",
        "\n",
        "    u1_input = jnp.concatenate([m2, d3], axis = 1)\n",
        "    u1 = self.up1(params['up1'], u1_input, t)\n",
        "\n",
        "    u2_input = jnp.concatenate([u1, d2], axis = 1)\n",
        "    u2 = self.up2(params['up2'], u2_input, t)\n",
        "\n",
        "    u3_input = jnp.concatenate([u2, d1], axis = 1)\n",
        "    u3 = self.up3(params['up3'], u2, t)\n",
        "\n",
        "    return self.out_conv(params['out_conv'], u3)"
      ],
      "metadata": {
        "id": "fvPsAukSmmoJ"
      },
      "execution_count": 13,
      "outputs": []
    },
    {
      "cell_type": "code",
      "source": [
        "class VAE:\n",
        "  def __init__(self, din, dout ,encoder_lay, decoder_lay, latent_dim,key):\n",
        "\n",
        "    # 1.keyes and dim\n",
        "    enc_key, dec_key, mu_key, logvar_key = jax.random.split(key, 4)\n",
        "    self.latent_dim = latent_dim\n",
        "    enc_dim = [din] + encoder_lay\n",
        "    dec_dim = [latent_dim] + decoder_lay + [din]\n",
        "    #2.Encoder\n",
        "    self.encoder_blocks = [MLP(k, i, o) for k, i, o in zip(enc_key, enc_dim[:-1], enc_dim[1:])]\n",
        "    self.enconder = sequentialNN(self.encoder_blocks)\n",
        "    #3.mu and logvar\n",
        "    self.mu = MLP(mu_key, encoder_lay[-1], latent_dim)\n",
        "    self.logvar = MLP(logvar_key, encoder_lay[-1], latent_dim)\n",
        "    #4.decoder\n",
        "    self.decoder_blocks = [MLP(k, i, o) for k, i, o in zip(dec_key, dec_dim[:-1], dec_dim[1:])]\n",
        "    self.decoder = sequentialNN(self.decoder_blocks)\n",
        "    self.key = key\n",
        "\n",
        "\n",
        "  @property\n",
        "  def params(self):\n",
        "    return {'encoder':[b.params for b in self.encoder_blocks],\n",
        "            'decoder':[b.params for b in self.decoder_blocks],\n",
        "            'mu':self.mu.params,\n",
        "            'logvar':self.logvar.params}\n",
        "\n",
        "  def reparameterize(self, mu, logvar):\n",
        "    std = jnp.exp(0.5 * logvar)\n",
        "    eps = jax.random.normal(self.key, std.shape)\n",
        "    return mu + eps * std\n",
        "  def _call__(self, params, x):\n",
        "    encoded = self.encoder(params['encoder'], x)\n",
        "    mu = self.mu(params['mu'], encoded)\n",
        "    logvar = self.logvar(params['logvar'], encoded)\n",
        "    z = self.reparameterize(mu, logvar)\n",
        "    x_pred = self.decoder(params['decoder'], z)\n",
        "    return x_pred, mu, logvar"
      ],
      "metadata": {
        "id": "02UYec5FNK7D"
      },
      "execution_count": 9,
      "outputs": []
    },
    {
      "cell_type": "code",
      "source": [
        "class noiseschedule:\n",
        "  def __init__(self,num_timesteps =1000, beta_start = 0.001, beta_end=0.02):\n",
        "    self.beta_start = beta_start\n",
        "    self.beta_end = beta_end\n",
        "    self.num_timesteps = num_timesteps\n",
        "    self.betas = jnp.linspace(beta_start, beta_end, num_timesteps)\n",
        "    self.alphas = 1 - self.betas\n",
        "\n",
        "  @property\n",
        "  def params(self):\n",
        "    return {'betas': self.betas, 'alphas': self.alphas}\n",
        "  def add_noise(self,rng, x, t):\n",
        "    sqrt_alphas_cumprod = jnp.sqrt(self.params['alphas'][t])\n",
        "    sqrt_one_minus_alphas_cumprod = jnp.sqrt(1 - self.params['alphas'][t])\n",
        "    noise = jax.random.normal(rng, x.shape)\n",
        "    return sqrt_alphas_cumprod * x + sqrt_one_minus_alphas_cumprod * noise\n",
        "\n",
        "  def __call__(self, rng, x, t):\n",
        "    return self.add_noise(rng, x, t)\n",
        "\n"
      ],
      "metadata": {
        "id": "7EsUS9Gooei9"
      },
      "execution_count": 10,
      "outputs": []
    },
    {
      "cell_type": "code",
      "source": [
        "class MLP:\n",
        "  def __init__(self, din, dout, key):\n",
        "    weights_key, bias_key = jax.random.split(key)\n",
        "    limit = jnp.sqrt(6 / (din + dout))\n",
        "    self.W = jax.random.uniform(weights_key, (dout, din), minval=-limit, maxval=limit)\n",
        "    self.b = jax.random.uniform(bias_key, (dout,), minval=-limit, maxval=limit)\n",
        "\n",
        "  @property\n",
        "  def params(self):\n",
        "    return {'W': self.W, 'b': self.b}\n",
        "\n",
        "  def __call__(self,params, x):\n",
        "    return jnp.dot(x, params['W'].T) + params['b']\n"
      ],
      "metadata": {
        "id": "xZOiBzL5cwyI"
      },
      "execution_count": 11,
      "outputs": []
    },
    {
      "cell_type": "code",
      "source": [
        "class sequentialNN:\n",
        "    def __init__(self, blocks: list):\n",
        "        self.blocks = blocks\n",
        "        # Only collect params from blocks that have them\n",
        "        self.parametric_blocks = [b for b in self.blocks if b.params is not None]\n",
        "        self._params = [b.params for b in self.parametric_blocks]\n",
        "\n",
        "    @property\n",
        "    def params(self):\n",
        "        return self._params\n",
        "\n",
        "    def __call__(self, params, x):\n",
        "        param_idx = 0\n",
        "        for block in self.blocks:\n",
        "            if hasattr(block, 'params') and block.params is not None:\n",
        "                x = block(params[param_idx], x)\n",
        "                param_idx += 1\n",
        "            else:\n",
        "                x = block(x)\n",
        "        return x"
      ],
      "metadata": {
        "id": "uYIo7Ckr8s_L"
      },
      "execution_count": 12,
      "outputs": []
    },
    {
      "cell_type": "code",
      "source": [
        "# Activation function\n",
        "\n",
        "class ReLU:\n",
        "  @property\n",
        "  def params(self):\n",
        "      return None\n",
        "\n",
        "  def __call__(self, x):\n",
        "      return jnp.maximum(0, x)"
      ],
      "metadata": {
        "id": "SJhZd-QA9Fs1"
      },
      "execution_count": 13,
      "outputs": []
    },
    {
      "cell_type": "code",
      "source": [
        "# Loss functions\n",
        "\n",
        "\n",
        "class MSE:\n",
        "  def forward(self, y_pred, y_true):\n",
        "    self.y_pred = y_pred\n",
        "    self.y_true = y_true\n",
        "    loss = jnp.mean((y_true - y_pred) ** 2)\n",
        "    return loss\n",
        "\n",
        "\n",
        "  def __call__(self, y_pred, y_true):\n",
        "    return self.forward(y_pred, y_true)\n",
        "\n",
        "\n",
        "class nll():\n",
        "  def forward(self, y_pred, y_true):\n",
        "    self.y_pred = y_pred\n",
        "    self.y_true = y_true\n",
        "    return -jnp.log(y_pred[jnp.arange(y_pred.shape[0]), y_true])\n",
        "\n",
        "  def __call__(self, y_pred, y_true):\n",
        "    return self.forward(y_pred, y_true)\n",
        "\n",
        "\n",
        "class vaeloss:\n",
        "  def forward(self, x_pred, x_true, mu, logvar):\n",
        "    recon_loss= MSE(x_pred, x_true)\n",
        "    kl_loss =  -0.5 * jnp.sum(1 + logvar - mu**2 - jnp.exp(logvar))\n",
        "    return recon_loss + kl_loss\n",
        "\n",
        "  def __call__(self, x_pred, x_true):\n",
        "    return self.forward(x_pred, x_true)\n",
        "\n",
        "\n",
        "class DGAEloss:\n",
        "  def __init__(self, kl_weight = 0.001, lpips_weight = 0.1):\n",
        "    self.kl_weight = kl_weight\n",
        "    self.lpips_weight = lpips_weight\n",
        "    self.LPIPS = lpips_jax.LPIPSEvaluator(net='vgg')\n",
        "\n",
        "  def forward(self,pred_noise, true_noise,  y_pred, y_true, mu, logvar):\n",
        "\n",
        "    dsmloss = MSE(pred_noise, true_noise)\n",
        "    kl_loss = -0.5 * jnp.sum(1 + logvar - mu**2 - jnp.exp(logvar))\n",
        "    lpips_loss = self.LPIPS(y_pred, y_true)\n",
        "    return dsmloss + self.kl_weight * kl_loss + self.lpips_weight * lpips_loss\n",
        "\n",
        "  def __call__(self,pred_noise, true_noise, y_pred, y_true, mu, logvar):\n",
        "    return self.forward(pred_noise, true_noise, y_pred, y_true, mu, logvar)\n"
      ],
      "metadata": {
        "id": "MqIlCc8b9MjS"
      },
      "execution_count": 19,
      "outputs": []
    },
    {
      "cell_type": "code",
      "source": [
        "#Optimiser\n",
        "\n",
        "class optimiser:\n",
        "  def __init__(self, model, lr=0.01):\n",
        "    self.model = model\n",
        "    self.lr = lr\n",
        "  def step(self, params, grads):\n",
        "    update = lambda p, g: p - self.lr * g\n",
        "    return jax.tree_map(update, params, grads)"
      ],
      "metadata": {
        "id": "XULumNLc9eAa"
      },
      "execution_count": 3,
      "outputs": []
    },
    {
      "cell_type": "code",
      "source": [
        " # Training Functions\n",
        "\n",
        "def train(model, data, optimiser, loss_function,epochs=10, batch_size=64):\n",
        "  X = data['X']\n",
        "  y = data['y']\n",
        "  trainingloss = []\n",
        "  current_params = model.params\n",
        "\n",
        "  @jax.jit\n",
        "  def train_step(params, batchX, batchY):\n",
        "    def loss_fn(params):\n",
        "      pred = model(params, batchX)\n",
        "\n",
        "      return loss_function(pred, batchY)\n",
        "  loss_grad_fun = jax.value_and_grad(train_step)\n",
        "\n",
        "\n",
        "\n",
        "  for epoch in tqdm(range(epochs)):\n",
        "    batchloss = []\n",
        "    indices = jax.random.permutation(jax.random.PRNGKey(epoch), X.shape[0])\n",
        "    X_shuffled = X[indices]\n",
        "    y_shuffled = y[indices]\n",
        "\n",
        "\n",
        "    for i in range(0, X.shape[0], batch_size):\n",
        "      batchX = X_shuffled[i:i+batch_size]\n",
        "      batchY = y_shuffled[i:i+batch_size]\n",
        "      loss, grad = loss_grad_fun(current_params)\n",
        "      batchloss.append(float(loss))\n",
        "      model._params = optimiser.step(current_params, grad)\n",
        "      current_params = model.params\n",
        "\n",
        "      batchloss.append(float(loss))\n",
        "      model._params = optimiser.step(current_params, grad)\n",
        "\n",
        "      current_params = model.params\n",
        "    trainingloss.append(float(np.mean(batchloss)))\n",
        "  return trainingloss,\n",
        "\n",
        "\n",
        "\n",
        "\n",
        "\n",
        "def train_dgae(model, data,optimiser, loss_function , epochs=10, batch_size=64, seed = 0):\n",
        "  X = data['X']\n",
        "  trainingloss = []\n",
        "  current_params = model.params\n",
        "  rng = jax.random.PRNGKey(seed)\n",
        "\n",
        "  alphas_cumprod = jnp.cumprod(model.noise_schedule.alphas)\n",
        "  @jax.jit\n",
        "  def train_step(params, batchX, rng):\n",
        "    t_rng, noise_rng, reparam_rng = jax.random.split(rng, 3)\n",
        "    t = jax.random.randint(t_rng, (batchX.shape[0],), 0, model.noise_schedule.num_timesteps)\n",
        "\n",
        "    sqrt_alphas_cumprod_t = jnp.sqrt(alphas_cumprod[t]).reshape(-1, 1, 1, 1)\n",
        "    sqrt_one_minus_alphas_cumprod_t = jnp.sqrt(1 - alphas_cumprod[t]).reshape(-1, 1, 1, 1)\n",
        "\n",
        "    noise = jax.random.normal(noise_rng, batchX.shape)\n",
        "    x_noisy = sqrt_alphas_cumprod_t * batchX + sqrt_one_minus_alphas_cumprod_t * noise\n",
        "\n",
        "    mu, logvar = model.encoder(params['encoder'], x_noisy)\n",
        "    z = model.reparameterize(mu, logvar)\n",
        "\n",
        "    pred_noise = model.decoder(params['decoder'], x_noisy, t, z)\n",
        "\n",
        "    recon_image = (x_noisy - sqrt_one_minus_alphas_cumprod_t * pred_noise) / sqrt_alphas_cumprod_t\n",
        "\n",
        "    loss = loss_function(pred_noise, noise,recon_image, batchX, mu, logvar)\n",
        "    return loss\n",
        "  grad_fn = jax.value_and_grad(train_step)\n",
        "\n",
        "  for epoch in tqdm(epochs):\n",
        "    rng, batch_rng = jax.random.split(rng)\n",
        "    indicies = jax.random.permutation(batch_rng, X.shape[0])\n",
        "    X_shuffled = X[indicies]\n",
        "    batchloss = []\n",
        "\n",
        "    for i in range(0, X.shape[0], batch_size):\n",
        "      batchX = X_shuffled[i:i+batch_size]\n",
        "      loss, grad = grad_fn(current_params, batchX, rng)\n",
        "      batchloss.append(float(loss))\n",
        "      current_params = optimiser.step(current_params, grad)\n",
        "\n",
        "    trainingloss.append(jnp.mean(jnp.array(batchloss)))\n",
        "  return trainingloss, current_params"
      ],
      "metadata": {
        "id": "UHZH_hCD9tzu"
      },
      "execution_count": 11,
      "outputs": []
    },
    {
      "cell_type": "code",
      "source": [],
      "metadata": {
        "id": "80yI8yQy0xKx"
      },
      "execution_count": null,
      "outputs": []
    },
    {
      "cell_type": "code",
      "source": [],
      "metadata": {
        "colab": {
          "base_uri": "https://localhost:8080/"
        },
        "id": "AwBPN9R2PPoS",
        "outputId": "ef79153b-b36d-4bce-d59b-2175a868b884"
      },
      "execution_count": 454,
      "outputs": [
        {
          "output_type": "execute_result",
          "data": {
            "text/plain": [
              "Array(1.759764, dtype=float32)"
            ]
          },
          "metadata": {},
          "execution_count": 454
        }
      ]
    }
  ]
}