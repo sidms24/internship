{
  "nbformat": 4,
  "nbformat_minor": 0,
  "metadata": {
    "colab": {
      "provenance": [],
      "machine_shape": "hm",
      "authorship_tag": "ABX9TyOJtRUeyrbRYgnVj0/AOohd",
      "include_colab_link": true
    },
    "kernelspec": {
      "name": "python3",
      "display_name": "Python 3"
    },
    "language_info": {
      "name": "python"
    }
  },
  "cells": [
    {
      "cell_type": "markdown",
      "metadata": {
        "id": "view-in-github",
        "colab_type": "text"
      },
      "source": [
        "<a href=\"https://colab.research.google.com/github/sidms24/internship/blob/main/week%205/embed_project.ipynb\" target=\"_parent\"><img src=\"https://colab.research.google.com/assets/colab-badge.svg\" alt=\"Open In Colab\"/></a>"
      ]
    },
    {
      "cell_type": "code",
      "source": [
        "!unzip \"/content/ncbi_dataset (1) (2).zip\"\n"
      ],
      "metadata": {
        "colab": {
          "base_uri": "https://localhost:8080/"
        },
        "id": "ejowegglIHtJ",
        "outputId": "8153188e-cbdb-4738-8775-2c0e39f8a29e"
      },
      "execution_count": 5,
      "outputs": [
        {
          "output_type": "stream",
          "name": "stdout",
          "text": [
            "Archive:  /content/ncbi_dataset (1) (2).zip\n",
            "  inflating: README.md               \n",
            "  inflating: ncbi_dataset/data/gene.fna  \n",
            "  inflating: ncbi_dataset/data/rna.fna  \n",
            "  inflating: ncbi_dataset/data/protein.faa  \n",
            "  inflating: ncbi_dataset/data/data_report.jsonl  \n",
            "  inflating: ncbi_dataset/data/product_report.jsonl  \n",
            "  inflating: ncbi_dataset/data/dataset_catalog.json  \n",
            "  inflating: md5sum.txt              \n"
          ]
        }
      ]
    },
    {
      "cell_type": "code",
      "source": [
        "import pandas as pd\n",
        "import Bio\n",
        "from Bio import SeqIO\n",
        "from Bio.Seq import Seq\n",
        "from Bio.SeqRecord import SeqRecord"
      ],
      "metadata": {
        "id": "mOOUmT9QMAHz"
      },
      "execution_count": null,
      "outputs": []
    },
    {
      "cell_type": "code",
      "source": [
        "o = pd.read_json(\"ncbi_dataset/data/data_report.jsonl\", lines=True)"
      ],
      "metadata": {
        "id": "G-Ie2o4GOz7G"
      },
      "execution_count": null,
      "outputs": []
    },
    {
      "cell_type": "code",
      "source": [
        "cols = list(set(o[\"geneOntology\"].explode()))\n",
        "p = pd.DataFrame(columns=cols)"
      ],
      "metadata": {
        "id": "1XEp4rY_O7iD"
      },
      "execution_count": null,
      "outputs": []
    },
    {
      "cell_type": "code",
      "source": [
        "p"
      ],
      "metadata": {
        "colab": {
          "base_uri": "https://localhost:8080/",
          "height": 460
        },
        "id": "OUQOpMnTviBb",
        "outputId": "ad16e7ea-513e-411a-a0d3-ecbe31295f46"
      },
      "execution_count": null,
      "outputs": [
        {
          "output_type": "execute_result",
          "data": {
            "text/plain": [
              "                                 biologicalProcesses  \\\n",
              "0  [[ERBB2-EGFR signaling pathway, involved_in], ...   \n",
              "1  [[AMPA glutamate receptor clustering, acts_ups...   \n",
              "2  [[T follicular helper cell differentiation, in...   \n",
              "3  [[ATP biosynthetic process, involved_in], [Lan...   \n",
              "4  [[JNK cascade, acts_upstream_of], [animal orga...   \n",
              "5  [[B cell lineage commitment, acts_upstream_of_...   \n",
              "6  [[VEGF-activated neuropilin signaling pathway,...   \n",
              "\n",
              "                                  cellularComponents  \\\n",
              "0  [[Golgi apparatus, located_in], [Golgi apparat...   \n",
              "1  [[Golgi apparatus, located_in], [blood micropa...   \n",
              "2  [[endoplasmic reticulum lumen, located_in], [e...   \n",
              "3  [[Golgi lumen, located_in], [axon, located_in]...   \n",
              "4  [[cell surface, located_in], [external side of...   \n",
              "5  [[PML body, located_in], [PML body, located_in...   \n",
              "6  [[Golgi apparatus, located_in], [VEGF-A comple...   \n",
              "\n",
              "                                  molecularFunctions          EnsemblId   gene  \n",
              "0  [[ATP binding, enables], [ATPase binding, enab...  [ENSG00000146648]   EGFR  \n",
              "1  [[amyloid-beta binding, enables], [amyloid-bet...  [ENSG00000130203]   APOE  \n",
              "2  [[cytokine activity, enables], [cytokine activ...  [ENSG00000136244]    IL6  \n",
              "3  [[cytokine activity, enables], [cytokine activ...  [ENSG00000105329]  TGFB1  \n",
              "4  [[cytokine activity, enables], [cytokine activ...  [ENSG00000232810]    TNF  \n",
              "5  [[14-3-3 protein binding, enables], [ATP-depen...  [ENSG00000141510]   TP53  \n",
              "6  [[chemoattractant activity, enables], [chemoat...  [ENSG00000112715]  VEGFA  "
            ],
            "text/html": [
              "\n",
              "  <div id=\"df-0ae28aa5-d2a7-4fe4-8830-06b0ca505ead\" class=\"colab-df-container\">\n",
              "    <div>\n",
              "<style scoped>\n",
              "    .dataframe tbody tr th:only-of-type {\n",
              "        vertical-align: middle;\n",
              "    }\n",
              "\n",
              "    .dataframe tbody tr th {\n",
              "        vertical-align: top;\n",
              "    }\n",
              "\n",
              "    .dataframe thead th {\n",
              "        text-align: right;\n",
              "    }\n",
              "</style>\n",
              "<table border=\"1\" class=\"dataframe\">\n",
              "  <thead>\n",
              "    <tr style=\"text-align: right;\">\n",
              "      <th></th>\n",
              "      <th>biologicalProcesses</th>\n",
              "      <th>cellularComponents</th>\n",
              "      <th>molecularFunctions</th>\n",
              "      <th>EnsemblId</th>\n",
              "      <th>gene</th>\n",
              "    </tr>\n",
              "  </thead>\n",
              "  <tbody>\n",
              "    <tr>\n",
              "      <th>0</th>\n",
              "      <td>[[ERBB2-EGFR signaling pathway, involved_in], ...</td>\n",
              "      <td>[[Golgi apparatus, located_in], [Golgi apparat...</td>\n",
              "      <td>[[ATP binding, enables], [ATPase binding, enab...</td>\n",
              "      <td>[ENSG00000146648]</td>\n",
              "      <td>EGFR</td>\n",
              "    </tr>\n",
              "    <tr>\n",
              "      <th>1</th>\n",
              "      <td>[[AMPA glutamate receptor clustering, acts_ups...</td>\n",
              "      <td>[[Golgi apparatus, located_in], [blood micropa...</td>\n",
              "      <td>[[amyloid-beta binding, enables], [amyloid-bet...</td>\n",
              "      <td>[ENSG00000130203]</td>\n",
              "      <td>APOE</td>\n",
              "    </tr>\n",
              "    <tr>\n",
              "      <th>2</th>\n",
              "      <td>[[T follicular helper cell differentiation, in...</td>\n",
              "      <td>[[endoplasmic reticulum lumen, located_in], [e...</td>\n",
              "      <td>[[cytokine activity, enables], [cytokine activ...</td>\n",
              "      <td>[ENSG00000136244]</td>\n",
              "      <td>IL6</td>\n",
              "    </tr>\n",
              "    <tr>\n",
              "      <th>3</th>\n",
              "      <td>[[ATP biosynthetic process, involved_in], [Lan...</td>\n",
              "      <td>[[Golgi lumen, located_in], [axon, located_in]...</td>\n",
              "      <td>[[cytokine activity, enables], [cytokine activ...</td>\n",
              "      <td>[ENSG00000105329]</td>\n",
              "      <td>TGFB1</td>\n",
              "    </tr>\n",
              "    <tr>\n",
              "      <th>4</th>\n",
              "      <td>[[JNK cascade, acts_upstream_of], [animal orga...</td>\n",
              "      <td>[[cell surface, located_in], [external side of...</td>\n",
              "      <td>[[cytokine activity, enables], [cytokine activ...</td>\n",
              "      <td>[ENSG00000232810]</td>\n",
              "      <td>TNF</td>\n",
              "    </tr>\n",
              "    <tr>\n",
              "      <th>5</th>\n",
              "      <td>[[B cell lineage commitment, acts_upstream_of_...</td>\n",
              "      <td>[[PML body, located_in], [PML body, located_in...</td>\n",
              "      <td>[[14-3-3 protein binding, enables], [ATP-depen...</td>\n",
              "      <td>[ENSG00000141510]</td>\n",
              "      <td>TP53</td>\n",
              "    </tr>\n",
              "    <tr>\n",
              "      <th>6</th>\n",
              "      <td>[[VEGF-activated neuropilin signaling pathway,...</td>\n",
              "      <td>[[Golgi apparatus, located_in], [VEGF-A comple...</td>\n",
              "      <td>[[chemoattractant activity, enables], [chemoat...</td>\n",
              "      <td>[ENSG00000112715]</td>\n",
              "      <td>VEGFA</td>\n",
              "    </tr>\n",
              "  </tbody>\n",
              "</table>\n",
              "</div>\n",
              "    <div class=\"colab-df-buttons\">\n",
              "\n",
              "  <div class=\"colab-df-container\">\n",
              "    <button class=\"colab-df-convert\" onclick=\"convertToInteractive('df-0ae28aa5-d2a7-4fe4-8830-06b0ca505ead')\"\n",
              "            title=\"Convert this dataframe to an interactive table.\"\n",
              "            style=\"display:none;\">\n",
              "\n",
              "  <svg xmlns=\"http://www.w3.org/2000/svg\" height=\"24px\" viewBox=\"0 -960 960 960\">\n",
              "    <path d=\"M120-120v-720h720v720H120Zm60-500h600v-160H180v160Zm220 220h160v-160H400v160Zm0 220h160v-160H400v160ZM180-400h160v-160H180v160Zm440 0h160v-160H620v160ZM180-180h160v-160H180v160Zm440 0h160v-160H620v160Z\"/>\n",
              "  </svg>\n",
              "    </button>\n",
              "\n",
              "  <style>\n",
              "    .colab-df-container {\n",
              "      display:flex;\n",
              "      gap: 12px;\n",
              "    }\n",
              "\n",
              "    .colab-df-convert {\n",
              "      background-color: #E8F0FE;\n",
              "      border: none;\n",
              "      border-radius: 50%;\n",
              "      cursor: pointer;\n",
              "      display: none;\n",
              "      fill: #1967D2;\n",
              "      height: 32px;\n",
              "      padding: 0 0 0 0;\n",
              "      width: 32px;\n",
              "    }\n",
              "\n",
              "    .colab-df-convert:hover {\n",
              "      background-color: #E2EBFA;\n",
              "      box-shadow: 0px 1px 2px rgba(60, 64, 67, 0.3), 0px 1px 3px 1px rgba(60, 64, 67, 0.15);\n",
              "      fill: #174EA6;\n",
              "    }\n",
              "\n",
              "    .colab-df-buttons div {\n",
              "      margin-bottom: 4px;\n",
              "    }\n",
              "\n",
              "    [theme=dark] .colab-df-convert {\n",
              "      background-color: #3B4455;\n",
              "      fill: #D2E3FC;\n",
              "    }\n",
              "\n",
              "    [theme=dark] .colab-df-convert:hover {\n",
              "      background-color: #434B5C;\n",
              "      box-shadow: 0px 1px 3px 1px rgba(0, 0, 0, 0.15);\n",
              "      filter: drop-shadow(0px 1px 2px rgba(0, 0, 0, 0.3));\n",
              "      fill: #FFFFFF;\n",
              "    }\n",
              "  </style>\n",
              "\n",
              "    <script>\n",
              "      const buttonEl =\n",
              "        document.querySelector('#df-0ae28aa5-d2a7-4fe4-8830-06b0ca505ead button.colab-df-convert');\n",
              "      buttonEl.style.display =\n",
              "        google.colab.kernel.accessAllowed ? 'block' : 'none';\n",
              "\n",
              "      async function convertToInteractive(key) {\n",
              "        const element = document.querySelector('#df-0ae28aa5-d2a7-4fe4-8830-06b0ca505ead');\n",
              "        const dataTable =\n",
              "          await google.colab.kernel.invokeFunction('convertToInteractive',\n",
              "                                                    [key], {});\n",
              "        if (!dataTable) return;\n",
              "\n",
              "        const docLinkHtml = 'Like what you see? Visit the ' +\n",
              "          '<a target=\"_blank\" href=https://colab.research.google.com/notebooks/data_table.ipynb>data table notebook</a>'\n",
              "          + ' to learn more about interactive tables.';\n",
              "        element.innerHTML = '';\n",
              "        dataTable['output_type'] = 'display_data';\n",
              "        await google.colab.output.renderOutput(dataTable, element);\n",
              "        const docLink = document.createElement('div');\n",
              "        docLink.innerHTML = docLinkHtml;\n",
              "        element.appendChild(docLink);\n",
              "      }\n",
              "    </script>\n",
              "  </div>\n",
              "\n",
              "\n",
              "    <div id=\"df-6cf5f3b8-d6d1-4d1a-9f7b-d14e0f0d6415\">\n",
              "      <button class=\"colab-df-quickchart\" onclick=\"quickchart('df-6cf5f3b8-d6d1-4d1a-9f7b-d14e0f0d6415')\"\n",
              "                title=\"Suggest charts\"\n",
              "                style=\"display:none;\">\n",
              "\n",
              "<svg xmlns=\"http://www.w3.org/2000/svg\" height=\"24px\"viewBox=\"0 0 24 24\"\n",
              "     width=\"24px\">\n",
              "    <g>\n",
              "        <path d=\"M19 3H5c-1.1 0-2 .9-2 2v14c0 1.1.9 2 2 2h14c1.1 0 2-.9 2-2V5c0-1.1-.9-2-2-2zM9 17H7v-7h2v7zm4 0h-2V7h2v10zm4 0h-2v-4h2v4z\"/>\n",
              "    </g>\n",
              "</svg>\n",
              "      </button>\n",
              "\n",
              "<style>\n",
              "  .colab-df-quickchart {\n",
              "      --bg-color: #E8F0FE;\n",
              "      --fill-color: #1967D2;\n",
              "      --hover-bg-color: #E2EBFA;\n",
              "      --hover-fill-color: #174EA6;\n",
              "      --disabled-fill-color: #AAA;\n",
              "      --disabled-bg-color: #DDD;\n",
              "  }\n",
              "\n",
              "  [theme=dark] .colab-df-quickchart {\n",
              "      --bg-color: #3B4455;\n",
              "      --fill-color: #D2E3FC;\n",
              "      --hover-bg-color: #434B5C;\n",
              "      --hover-fill-color: #FFFFFF;\n",
              "      --disabled-bg-color: #3B4455;\n",
              "      --disabled-fill-color: #666;\n",
              "  }\n",
              "\n",
              "  .colab-df-quickchart {\n",
              "    background-color: var(--bg-color);\n",
              "    border: none;\n",
              "    border-radius: 50%;\n",
              "    cursor: pointer;\n",
              "    display: none;\n",
              "    fill: var(--fill-color);\n",
              "    height: 32px;\n",
              "    padding: 0;\n",
              "    width: 32px;\n",
              "  }\n",
              "\n",
              "  .colab-df-quickchart:hover {\n",
              "    background-color: var(--hover-bg-color);\n",
              "    box-shadow: 0 1px 2px rgba(60, 64, 67, 0.3), 0 1px 3px 1px rgba(60, 64, 67, 0.15);\n",
              "    fill: var(--button-hover-fill-color);\n",
              "  }\n",
              "\n",
              "  .colab-df-quickchart-complete:disabled,\n",
              "  .colab-df-quickchart-complete:disabled:hover {\n",
              "    background-color: var(--disabled-bg-color);\n",
              "    fill: var(--disabled-fill-color);\n",
              "    box-shadow: none;\n",
              "  }\n",
              "\n",
              "  .colab-df-spinner {\n",
              "    border: 2px solid var(--fill-color);\n",
              "    border-color: transparent;\n",
              "    border-bottom-color: var(--fill-color);\n",
              "    animation:\n",
              "      spin 1s steps(1) infinite;\n",
              "  }\n",
              "\n",
              "  @keyframes spin {\n",
              "    0% {\n",
              "      border-color: transparent;\n",
              "      border-bottom-color: var(--fill-color);\n",
              "      border-left-color: var(--fill-color);\n",
              "    }\n",
              "    20% {\n",
              "      border-color: transparent;\n",
              "      border-left-color: var(--fill-color);\n",
              "      border-top-color: var(--fill-color);\n",
              "    }\n",
              "    30% {\n",
              "      border-color: transparent;\n",
              "      border-left-color: var(--fill-color);\n",
              "      border-top-color: var(--fill-color);\n",
              "      border-right-color: var(--fill-color);\n",
              "    }\n",
              "    40% {\n",
              "      border-color: transparent;\n",
              "      border-right-color: var(--fill-color);\n",
              "      border-top-color: var(--fill-color);\n",
              "    }\n",
              "    60% {\n",
              "      border-color: transparent;\n",
              "      border-right-color: var(--fill-color);\n",
              "    }\n",
              "    80% {\n",
              "      border-color: transparent;\n",
              "      border-right-color: var(--fill-color);\n",
              "      border-bottom-color: var(--fill-color);\n",
              "    }\n",
              "    90% {\n",
              "      border-color: transparent;\n",
              "      border-bottom-color: var(--fill-color);\n",
              "    }\n",
              "  }\n",
              "</style>\n",
              "\n",
              "      <script>\n",
              "        async function quickchart(key) {\n",
              "          const quickchartButtonEl =\n",
              "            document.querySelector('#' + key + ' button');\n",
              "          quickchartButtonEl.disabled = true;  // To prevent multiple clicks.\n",
              "          quickchartButtonEl.classList.add('colab-df-spinner');\n",
              "          try {\n",
              "            const charts = await google.colab.kernel.invokeFunction(\n",
              "                'suggestCharts', [key], {});\n",
              "          } catch (error) {\n",
              "            console.error('Error during call to suggestCharts:', error);\n",
              "          }\n",
              "          quickchartButtonEl.classList.remove('colab-df-spinner');\n",
              "          quickchartButtonEl.classList.add('colab-df-quickchart-complete');\n",
              "        }\n",
              "        (() => {\n",
              "          let quickchartButtonEl =\n",
              "            document.querySelector('#df-6cf5f3b8-d6d1-4d1a-9f7b-d14e0f0d6415 button');\n",
              "          quickchartButtonEl.style.display =\n",
              "            google.colab.kernel.accessAllowed ? 'block' : 'none';\n",
              "        })();\n",
              "      </script>\n",
              "    </div>\n",
              "\n",
              "  <div id=\"id_06289229-e64c-4d76-8e74-1f3e5c7487a9\">\n",
              "    <style>\n",
              "      .colab-df-generate {\n",
              "        background-color: #E8F0FE;\n",
              "        border: none;\n",
              "        border-radius: 50%;\n",
              "        cursor: pointer;\n",
              "        display: none;\n",
              "        fill: #1967D2;\n",
              "        height: 32px;\n",
              "        padding: 0 0 0 0;\n",
              "        width: 32px;\n",
              "      }\n",
              "\n",
              "      .colab-df-generate:hover {\n",
              "        background-color: #E2EBFA;\n",
              "        box-shadow: 0px 1px 2px rgba(60, 64, 67, 0.3), 0px 1px 3px 1px rgba(60, 64, 67, 0.15);\n",
              "        fill: #174EA6;\n",
              "      }\n",
              "\n",
              "      [theme=dark] .colab-df-generate {\n",
              "        background-color: #3B4455;\n",
              "        fill: #D2E3FC;\n",
              "      }\n",
              "\n",
              "      [theme=dark] .colab-df-generate:hover {\n",
              "        background-color: #434B5C;\n",
              "        box-shadow: 0px 1px 3px 1px rgba(0, 0, 0, 0.15);\n",
              "        filter: drop-shadow(0px 1px 2px rgba(0, 0, 0, 0.3));\n",
              "        fill: #FFFFFF;\n",
              "      }\n",
              "    </style>\n",
              "    <button class=\"colab-df-generate\" onclick=\"generateWithVariable('p')\"\n",
              "            title=\"Generate code using this dataframe.\"\n",
              "            style=\"display:none;\">\n",
              "\n",
              "  <svg xmlns=\"http://www.w3.org/2000/svg\" height=\"24px\"viewBox=\"0 0 24 24\"\n",
              "       width=\"24px\">\n",
              "    <path d=\"M7,19H8.4L18.45,9,17,7.55,7,17.6ZM5,21V16.75L18.45,3.32a2,2,0,0,1,2.83,0l1.4,1.43a1.91,1.91,0,0,1,.58,1.4,1.91,1.91,0,0,1-.58,1.4L9.25,21ZM18.45,9,17,7.55Zm-12,3A5.31,5.31,0,0,0,4.9,8.1,5.31,5.31,0,0,0,1,6.5,5.31,5.31,0,0,0,4.9,4.9,5.31,5.31,0,0,0,6.5,1,5.31,5.31,0,0,0,8.1,4.9,5.31,5.31,0,0,0,12,6.5,5.46,5.46,0,0,0,6.5,12Z\"/>\n",
              "  </svg>\n",
              "    </button>\n",
              "    <script>\n",
              "      (() => {\n",
              "      const buttonEl =\n",
              "        document.querySelector('#id_06289229-e64c-4d76-8e74-1f3e5c7487a9 button.colab-df-generate');\n",
              "      buttonEl.style.display =\n",
              "        google.colab.kernel.accessAllowed ? 'block' : 'none';\n",
              "\n",
              "      buttonEl.onclick = () => {\n",
              "        google.colab.notebook.generateWithVariable('p');\n",
              "      }\n",
              "      })();\n",
              "    </script>\n",
              "  </div>\n",
              "\n",
              "    </div>\n",
              "  </div>\n"
            ],
            "application/vnd.google.colaboratory.intrinsic+json": {
              "type": "dataframe",
              "variable_name": "p",
              "summary": "{\n  \"name\": \"p\",\n  \"rows\": 7,\n  \"fields\": [\n    {\n      \"column\": \"biologicalProcesses\",\n      \"properties\": {\n        \"dtype\": \"object\",\n        \"semantic_type\": \"\",\n        \"description\": \"\"\n      }\n    },\n    {\n      \"column\": \"cellularComponents\",\n      \"properties\": {\n        \"dtype\": \"object\",\n        \"semantic_type\": \"\",\n        \"description\": \"\"\n      }\n    },\n    {\n      \"column\": \"molecularFunctions\",\n      \"properties\": {\n        \"dtype\": \"object\",\n        \"semantic_type\": \"\",\n        \"description\": \"\"\n      }\n    },\n    {\n      \"column\": \"EnsemblId\",\n      \"properties\": {\n        \"dtype\": \"object\",\n        \"semantic_type\": \"\",\n        \"description\": \"\"\n      }\n    },\n    {\n      \"column\": \"gene\",\n      \"properties\": {\n        \"dtype\": \"string\",\n        \"num_unique_values\": 7,\n        \"samples\": [\n          \"EGFR\",\n          \"APOE\",\n          \"TP53\"\n        ],\n        \"semantic_type\": \"\",\n        \"description\": \"\"\n      }\n    }\n  ]\n}"
            }
          },
          "metadata": {},
          "execution_count": 143
        }
      ]
    },
    {
      "cell_type": "code",
      "source": [
        "o[\"geneOntology\"].iloc[0]['biologicalProcesses']\n",
        "for i in range(len(o)):\n",
        "  for key,value in o[\"geneOntology\"].iloc[i].items():\n",
        "    a = []\n",
        "    for j in value:\n",
        "      a.append([j[\"name\"], j[\"qualifier\"]])\n",
        "    p.loc[i, key] = a"
      ],
      "metadata": {
        "id": "J6WIxhFbQczK"
      },
      "execution_count": null,
      "outputs": []
    },
    {
      "cell_type": "code",
      "source": [
        "p[\"EnsemblId\"] = o[\"ensemblGeneIds\"]\n",
        "p[\"gene\"] = o[\"symbol\"]"
      ],
      "metadata": {
        "id": "xt8BquGGTcZr"
      },
      "execution_count": null,
      "outputs": []
    },
    {
      "cell_type": "code",
      "source": [
        "genes = []\n",
        "proteins = []\n",
        "for record in SeqIO.parse(\"ncbi_dataset/data/gene.fna\", \"fasta\"):\n",
        "    accession_id = record.description.split(\" \")[0].split(\":\")[0]\n",
        "    gene = record.description.split(\" \")[1]\n",
        "    start = record.description.split(\" \")[0].split(\":\")[1].split(\"-\")[0].strip(\"c\")\n",
        "    end = record.description.split(\" \")[0].split(\":\")[1].split(\"-\")[1]\n",
        "    chromosome = record.description.split(\" \")[5].split(\"=\")[1].strip(\"]\")\n",
        "    gene_seq = str(record.seq)\n",
        "    genes.append([accession_id, gene, chromosome, start, end, gene_seq])\n"
      ],
      "metadata": {
        "id": "QuoCrp8hMD5g"
      },
      "execution_count": null,
      "outputs": []
    },
    {
      "cell_type": "code",
      "source": [
        "df = pd.DataFrame(genes, columns=['accession_id', 'gene', 'chromosome', 'start', 'end' ,'gene_seq'])\n",
        "df.drop_duplicates(inplace = True)\n",
        "df_protein = pd.DataFrame(proteins, columns=['accession_id','gene', 'protein_seq'])\n",
        "df_protein.drop_duplicates(inplace=True)\n"
      ],
      "metadata": {
        "id": "yk1oAczRM8QE"
      },
      "execution_count": null,
      "outputs": []
    },
    {
      "cell_type": "code",
      "source": [
        "df = df.merge(df_protein, on=['accession_id','gene'], how='left')\n",
        "df = df.merge(p, on='gene', how='left')\n",
        "df[\"protein_seq\"]= df[\"gene_seq\"].apply(lambda x: str(Seq(x).translate()))"
      ],
      "metadata": {
        "id": "wQq4wD5kcXKX"
      },
      "execution_count": null,
      "outputs": []
    },
    {
      "cell_type": "code",
      "source": [
        "def one_hot_encode_gene(seq):\n",
        "    mapping = {'A': [1, 0, 0, 0], 'C': [0, 1, 0, 0], 'G': [0, 0, 1, 0], 'T': [0, 0, 0, 1], 'N': [0, 0, 0, 0]}\n",
        "    encoded_seq = [mapping.get(base, [0, 0, 0, 0]) for base in seq]\n",
        "    return encoded_seq\n",
        "\n",
        "df['gene_seq'] = df['gene_seq'].apply(one_hot_encode_gene)"
      ],
      "metadata": {
        "id": "WUe3R7_Wh3rK"
      },
      "execution_count": null,
      "outputs": []
    },
    {
      "cell_type": "code",
      "source": [
        "def one_hot_encode_protein(seq):\n",
        "    # Include stop codon '*' in the mapping\n",
        "    mapping = {\n",
        "        'A': [1, 0, 0, 0, 0, 0, 0, 0, 0, 0, 0, 0, 0, 0, 0, 0, 0, 0, 0, 0, 0],\n",
        "        'R': [0, 1, 0, 0, 0, 0, 0, 0, 0, 0, 0, 0, 0, 0, 0, 0, 0, 0, 0, 0, 0],\n",
        "        'N': [0, 0, 1, 0, 0, 0, 0, 0, 0, 0, 0, 0, 0, 0, 0, 0, 0, 0, 0, 0, 0],\n",
        "        'D': [0, 0, 0, 1, 0, 0, 0, 0, 0, 0, 0, 0, 0, 0, 0, 0, 0, 0, 0, 0, 0],\n",
        "        'C': [0, 0, 0, 0, 1, 0, 0, 0, 0, 0, 0, 0, 0, 0, 0, 0, 0, 0, 0, 0, 0],\n",
        "        'Q': [0, 0, 0, 0, 0, 1, 0, 0, 0, 0, 0, 0, 0, 0, 0, 0, 0, 0, 0, 0, 0],\n",
        "        'E': [0, 0, 0, 0, 0, 0, 1, 0, 0, 0, 0, 0, 0, 0, 0, 0, 0, 0, 0, 0, 0],\n",
        "        'G': [0, 0, 0, 0, 0, 0, 0, 1, 0, 0, 0, 0, 0, 0, 0, 0, 0, 0, 0, 0, 0],\n",
        "        'H': [0, 0, 0, 0, 0, 0, 0, 0, 1, 0, 0, 0, 0, 0, 0, 0, 0, 0, 0, 0, 0],\n",
        "        'I': [0, 0, 0, 0, 0, 0, 0, 0, 0, 1, 0, 0, 0, 0, 0, 0, 0, 0, 0, 0, 0],\n",
        "        'L': [0, 0, 0, 0, 0, 0, 0, 0, 0, 0, 1, 0, 0, 0, 0, 0, 0, 0, 0, 0, 0],\n",
        "        'K': [0, 0, 0, 0, 0, 0, 0, 0, 0, 0, 0, 1, 0, 0, 0, 0, 0, 0, 0, 0, 0],\n",
        "        'M': [0, 0, 0, 0, 0, 0, 0, 0, 0, 0, 0, 0, 1, 0, 0, 0, 0, 0, 0, 0, 0],\n",
        "        'F': [0, 0, 0, 0, 0, 0, 0, 0, 0, 0, 0, 0, 0, 1, 0, 0, 0, 0, 0, 0, 0],\n",
        "        'P': [0, 0, 0, 0, 0, 0, 0, 0, 0, 0, 0, 0, 0, 0, 1, 0, 0, 0, 0, 0, 0],\n",
        "        'S': [0, 0, 0, 0, 0, 0, 0, 0, 0, 0, 0, 0, 0, 0, 0, 1, 0, 0, 0, 0, 0],\n",
        "        'T': [0, 0, 0, 0, 0, 0, 0, 0, 0, 0, 0, 0, 0, 0, 0, 0, 1, 0, 0, 0, 0],\n",
        "        'W': [0, 0, 0, 0, 0, 0, 0, 0, 0, 0, 0, 0, 0, 0, 0, 0, 0, 1, 0, 0, 0],\n",
        "        'Y': [0, 0, 0, 0, 0, 0, 0, 0, 0, 0, 0, 0, 0, 0, 0, 0, 0, 0, 1, 0, 0],\n",
        "        'V': [0, 0, 0, 0, 0, 0, 0, 0, 0, 0, 0, 0, 0, 0, 0, 0, 0, 0, 0, 1, 0],\n",
        "        '*': [0, 0, 0, 0, 0, 0, 0, 0, 0, 0, 0, 0, 0, 0, 0, 0, 0, 0, 0, 0, 1], # Stop codon\n",
        "        'X': [0, 0, 0, 0, 0, 0, 0, 0, 0, 0, 0, 0, 0, 0, 0, 0, 0, 0, 0, 0, 0] # Unknown amino acid\n",
        "    }\n",
        "    encoded_seq = [mapping.get(amino_acid, [0] * 21) for amino_acid in seq]\n",
        "    return encoded_seq\n",
        "\n",
        "df['protein_seq'] = df['protein_seq'].apply(one_hot_encode_protein)\n"
      ],
      "metadata": {
        "id": "zp2yvw0hpQrB"
      },
      "execution_count": null,
      "outputs": []
    },
    {
      "cell_type": "code",
      "source": [
        "import pandas as pd\n",
        "from sklearn.feature_extraction.text import TfidfVectorizer\n",
        "df['molecular_documents'] = df['molecularFunctions'].apply(lambda pairs: [' '.join(p) for p in pairs])\n",
        "all_docs = [doc for sublist in df['molecular_documents'] for doc in sublist]\n",
        "vectorizer = TfidfVectorizer()\n",
        "tfidf_matrix = vectorizer.fit_transform(all_docs)\n",
        "# --- End of previous code ---\n",
        "\n",
        "\n",
        "# 1. Convert the sparse matrix to a list of vectors for easier handling\n",
        "# Each item in this list is one vector (represented as a list of floats)\n",
        "list_of_all_vectors = tfidf_matrix.toarray().tolist()\n",
        "\n",
        "\n",
        "# 2. Distribute the vectors back to their original rows\n",
        "vectors_for_each_row = []\n",
        "current_position = 0\n",
        "for docs_in_row in df['molecular_documents']:\n",
        "    # Find how many vectors belong to this row\n",
        "    num_vectors_in_row = len(docs_in_row)\n",
        "\n",
        "    # Slice that many vectors from our flat list\n",
        "    row_vectors = list_of_all_vectors[current_position : current_position + num_vectors_in_row]\n",
        "    vectors_for_each_row.append(row_vectors)\n",
        "\n",
        "    # Move the starting position for the next row\n",
        "    current_position += num_vectors_in_row\n",
        "\n",
        "\n",
        "# 3. Add the result as a new column in the DataFrame\n",
        "df['molecular_embeddings'] = vectors_for_each_row"
      ],
      "metadata": {
        "id": "PHN6uX7Jin1_"
      },
      "execution_count": null,
      "outputs": []
    },
    {
      "cell_type": "code",
      "source": [
        "df['biological_documents'] = df['biologicalProcesses'].apply(lambda pairs: [' '.join(p) for p in pairs])\n",
        "all_docs = [doc for sublist in df['biological_documents'] for doc in sublist]\n",
        "vectorizer = TfidfVectorizer()\n",
        "tfidf_matrix = vectorizer.fit_transform(all_docs)\n",
        "# --- End of previous code ---\n",
        "\n",
        "\n",
        "# 1. Convert the sparse matrix to a list of vectors for easier handling\n",
        "# Each item in this list is one vector (represented as a list of floats)\n",
        "list_of_all_vectors = tfidf_matrix.toarray().tolist()\n",
        "\n",
        "\n",
        "# 2. Distribute the vectors back to their original rows\n",
        "vectors_for_each_row = []\n",
        "current_position = 0\n",
        "for docs_in_row in df['biological_documents']:\n",
        "    # Find how many vectors belong to this row\n",
        "    num_vectors_in_row = len(docs_in_row)\n",
        "\n",
        "    # Slice that many vectors from our flat list\n",
        "    row_vectors = list_of_all_vectors[current_position : current_position + num_vectors_in_row]\n",
        "    vectors_for_each_row.append(row_vectors)\n",
        "\n",
        "    # Move the starting position for the next row\n",
        "    current_position += num_vectors_in_row\n",
        "\n",
        "\n",
        "# 3. Add the result as a new column in the DataFrame\n",
        "df['biological_embeddings'] = vectors_for_each_row"
      ],
      "metadata": {
        "id": "ApFTQiP-rpkl"
      },
      "execution_count": null,
      "outputs": []
    },
    {
      "cell_type": "code",
      "source": [
        "df['cellular_documents'] = df['cellularComponents'].apply(lambda pairs: [' '.join(p) for p in pairs])\n",
        "all_docs = [doc for sublist in df['cellular_documents'] for doc in sublist]\n",
        "vectorizer = TfidfVectorizer()\n",
        "tfidf_matrix = vectorizer.fit_transform(all_docs)\n",
        "# --- End of previous code ---\n",
        "\n",
        "\n",
        "# 1. Convert the sparse matrix to a list of vectors for easier handling\n",
        "# Each item in this list is one vector (represented as a list of floats)\n",
        "list_of_all_vectors = tfidf_matrix.toarray().tolist()\n",
        "\n",
        "\n",
        "# 2. Distribute the vectors back to their original rows\n",
        "vectors_for_each_row = []\n",
        "current_position = 0\n",
        "for docs_in_row in df['cellular_documents']:\n",
        "    # Find how many vectors belong to this row\n",
        "    num_vectors_in_row = len(docs_in_row)\n",
        "\n",
        "    # Slice that many vectors from our flat list\n",
        "    row_vectors = list_of_all_vectors[current_position : current_position + num_vectors_in_row]\n",
        "    vectors_for_each_row.append(row_vectors)\n",
        "\n",
        "    # Move the starting position for the next row\n",
        "    current_position += num_vectors_in_row\n",
        "\n",
        "\n",
        "# 3. Add the result as a new column in the DataFrame\n",
        "df['cellular_embeddings'] = vectors_for_each_row"
      ],
      "metadata": {
        "id": "0g4VTb0evesP"
      },
      "execution_count": null,
      "outputs": []
    },
    {
      "cell_type": "code",
      "source": [
        "import torch\n",
        "import torch.nn as nn\n",
        "import numpy as np"
      ],
      "metadata": {
        "id": "m-yrRJ7Xs1pO"
      },
      "execution_count": null,
      "outputs": []
    },
    {
      "cell_type": "code",
      "source": [
        "df['gene_seq'] = df['gene_seq'].apply(lambda x: np.array(x))\n",
        "df['protein_seq'] = df['protein_seq'].apply(lambda x: np.array(x))"
      ],
      "metadata": {
        "id": "WUTP6BDaw7zk"
      },
      "execution_count": null,
      "outputs": []
    },
    {
      "cell_type": "code",
      "source": [
        "X = df[['gene_seq', 'protein_seq', 'molecular_embeddings', 'biological_embeddings', 'cellular_embeddings']]\n",
        "X = torch.tensor(X.values, dtype=torch.float32)"
      ],
      "metadata": {
        "colab": {
          "base_uri": "https://localhost:8080/",
          "height": 216
        },
        "id": "DB2fIHWexwi0",
        "outputId": "04516e3d-affb-4bbc-fb36-97fc1510bc5a"
      },
      "execution_count": null,
      "outputs": [
        {
          "output_type": "error",
          "ename": "TypeError",
          "evalue": "can't convert np.ndarray of type numpy.object_. The only supported types are: float64, float32, float16, complex64, complex128, int64, int32, int16, int8, uint64, uint32, uint16, uint8, and bool.",
          "traceback": [
            "\u001b[0;31m---------------------------------------------------------------------------\u001b[0m",
            "\u001b[0;31mTypeError\u001b[0m                                 Traceback (most recent call last)",
            "\u001b[0;32m/tmp/ipython-input-169-1303378054.py\u001b[0m in \u001b[0;36m<cell line: 0>\u001b[0;34m()\u001b[0m\n\u001b[1;32m      1\u001b[0m \u001b[0mX\u001b[0m \u001b[0;34m=\u001b[0m \u001b[0mdf\u001b[0m\u001b[0;34m[\u001b[0m\u001b[0;34m[\u001b[0m\u001b[0;34m'gene_seq'\u001b[0m\u001b[0;34m,\u001b[0m \u001b[0;34m'protein_seq'\u001b[0m\u001b[0;34m,\u001b[0m \u001b[0;34m'molecular_embeddings'\u001b[0m\u001b[0;34m,\u001b[0m \u001b[0;34m'biological_embeddings'\u001b[0m\u001b[0;34m,\u001b[0m \u001b[0;34m'cellular_embeddings'\u001b[0m\u001b[0;34m]\u001b[0m\u001b[0;34m]\u001b[0m\u001b[0;34m\u001b[0m\u001b[0;34m\u001b[0m\u001b[0m\n\u001b[0;32m----> 2\u001b[0;31m \u001b[0mX\u001b[0m \u001b[0;34m=\u001b[0m \u001b[0mtorch\u001b[0m\u001b[0;34m.\u001b[0m\u001b[0mtensor\u001b[0m\u001b[0;34m(\u001b[0m\u001b[0mX\u001b[0m\u001b[0;34m.\u001b[0m\u001b[0mvalues\u001b[0m\u001b[0;34m,\u001b[0m \u001b[0mdtype\u001b[0m\u001b[0;34m=\u001b[0m\u001b[0mtorch\u001b[0m\u001b[0;34m.\u001b[0m\u001b[0mfloat32\u001b[0m\u001b[0;34m)\u001b[0m\u001b[0;34m\u001b[0m\u001b[0;34m\u001b[0m\u001b[0m\n\u001b[0m",
            "\u001b[0;31mTypeError\u001b[0m: can't convert np.ndarray of type numpy.object_. The only supported types are: float64, float32, float16, complex64, complex128, int64, int32, int16, int8, uint64, uint32, uint16, uint8, and bool."
          ]
        }
      ]
    },
    {
      "cell_type": "code",
      "metadata": {
        "colab": {
          "base_uri": "https://localhost:8080/"
        },
        "id": "71698aef",
        "outputId": "177acb73-56e8-40d1-d4e4-d02ade75b8a7"
      },
      "source": [
        "# Convert list of lists/arrays in specified columns to tensors and handle variable lengths\n",
        "X_list = []\n",
        "for index, row in df[['gene_seq']].iterrows():\n",
        "    gene_seq_tensor = torch.tensor(row['gene_seq'], dtype=torch.float32).flatten()\n",
        "    X_list.append(gene_seq_tensor)\n",
        "\n",
        "\n",
        "# Pad sequences if necessary (handling variable length inputs)\n",
        "# For simplicity, we'll pad to the maximum length found in the dataset.\n",
        "# A more robust approach might involve padding within batches or using RNNs/LSTMs.\n",
        "\n",
        "max_len = max(tensor.size(0) for tensor in X_list)\n",
        "padded_X_list = []\n",
        "for tensor in X_list:\n",
        "    padding_size = max_len - tensor.size(0)\n",
        "    padded_tensor = torch.nn.functional.pad(tensor, (0, padding_size))\n",
        "    padded_X_list.append(padded_tensor)\n",
        "\n",
        "\n",
        "# Stack the tensors to create the final input tensor X\n",
        "X = torch.stack(padded_X_list)\n",
        "\n",
        "print(\"Shape of the final input tensor X:\", X.shape)"
      ],
      "execution_count": null,
      "outputs": [
        {
          "output_type": "stream",
          "name": "stdout",
          "text": [
            "Shape of the final input tensor X: torch.Size([21, 772480])\n"
          ]
        }
      ]
    },
    {
      "cell_type": "code",
      "source": [
        "from torch.utils.data import dataset, dataloader"
      ],
      "metadata": {
        "id": "tcT0td9Byj8E"
      },
      "execution_count": null,
      "outputs": []
    },
    {
      "cell_type": "code",
      "source": [
        "from torch.utils.data import DataLoader, TensorDataset\n",
        "\n",
        "dataset = TensorDataset(X)\n",
        "\n",
        "trainloader = DataLoader(dataset, batch_size=32, shuffle=True) # You can adjust batch_size and shuffle as needed"
      ],
      "metadata": {
        "id": "tJTeVQNt3VBx"
      },
      "execution_count": null,
      "outputs": []
    },
    {
      "cell_type": "code",
      "source": [
        "from diffusers import AutoencoderKL"
      ],
      "metadata": {
        "id": "boEwn7EV3unf"
      },
      "execution_count": null,
      "outputs": []
    },
    {
      "cell_type": "code",
      "source": [
        "from enum import auto\n",
        "# prompt: Using autoecnoderkl train using trainloader abover\n",
        "input_dim = X.size(-1)\n",
        "# Assuming AutoencoderKL is initialized and defined as `autoencoderkl`\n",
        "# Assuming the model is moved to the appropriate device (e.g., CUDA)\n",
        "device = torch.device(\"cuda\" if torch.cuda.is_available() else \"cpu\")\n",
        "# Replace AutoencoderKL with the custom SimpleAutoencoder\n",
        "autoencoder = SimpleAutoencoder(input_dim).to(device)\n",
        "\n",
        "# Define loss function (Mean Squared Error is common for reconstruction)\n",
        "criterion = nn.MSELoss()\n",
        "\n",
        "# Define optimizer\n",
        "optimizer = torch.optim.Adam(autoencoder.parameters(), lr=1e-4) # Adjust learning rate as needed\n",
        "\n",
        "# Training loop\n",
        "num_epochs = 10 # Adjust number of epochs as needed\n",
        "\n",
        "# No need to move model to device again here, it's already done above\n",
        "# autoencoderkl.to(device)\n",
        "\n",
        "for epoch in range(num_epochs):\n",
        "  autoencoder.train()\n",
        "  running_loss = 0.0\n",
        "  for data in trainloader:\n",
        "    # Assuming the data is a tuple, take the first element which is your tensor\n",
        "    inputs = data[0].to(device)\n",
        "\n",
        "    # The SimpleAutoencoder expects a flattened input, no need to reshape to 4D\n",
        "    # inputs = inputs.view(inputs.size(0), 1, 1, -1)\n",
        "\n",
        "\n",
        "    # Zero the parameter gradients\n",
        "    optimizer.zero_grad()\n",
        "\n",
        "    # Forward pass\n",
        "    # Use the custom autoencoder\n",
        "    outputs = autoencoder(inputs) # Access the reconstructed sample\n",
        "\n",
        "    # Calculate loss\n",
        "    loss = criterion(outputs, inputs)\n",
        "\n",
        "    # Backward pass and optimize\n",
        "    loss.backward()\n",
        "    optimizer.step()\n",
        "\n",
        "    running_loss += loss.item() * inputs.size(0)\n",
        "\n",
        "  epoch_loss = running_loss / len(trainloader.dataset)\n",
        "  print(f'Epoch [{epoch+1}/{num_epochs}], Loss: {epoch_loss:.4f}')\n",
        "\n",
        "print('Finished Training')"
      ],
      "metadata": {
        "colab": {
          "base_uri": "https://localhost:8080/"
        },
        "id": "Pr79Z98H32IF",
        "outputId": "5a470c4d-fc8a-4e72-93e5-86090a5fd6ac"
      },
      "execution_count": null,
      "outputs": [
        {
          "output_type": "stream",
          "name": "stdout",
          "text": [
            "Epoch [1/10], Loss: 0.0346\n",
            "Epoch [2/10], Loss: 0.0346\n",
            "Epoch [3/10], Loss: 0.0345\n",
            "Epoch [4/10], Loss: 0.0345\n",
            "Epoch [5/10], Loss: 0.0344\n",
            "Epoch [6/10], Loss: 0.0344\n",
            "Epoch [7/10], Loss: 0.0343\n",
            "Epoch [8/10], Loss: 0.0343\n",
            "Epoch [9/10], Loss: 0.0342\n",
            "Epoch [10/10], Loss: 0.0342\n",
            "Finished Training\n"
          ]
        }
      ]
    },
    {
      "cell_type": "code",
      "metadata": {
        "colab": {
          "base_uri": "https://localhost:8080/"
        },
        "id": "61fc0fde",
        "outputId": "3c085bc5-ad3f-43ab-b407-3b79cc5acc8f"
      },
      "source": [
        "class SimpleAutoencoder(nn.Module):\n",
        "    def __init__(self, input_dim):\n",
        "        super(SimpleAutoencoder, self).__init__()\n",
        "        self.encoder = nn.Sequential(\n",
        "            nn.Linear(input_dim, 512),\n",
        "            nn.ReLU(),\n",
        "            nn.Linear(512, 256),\n",
        "            nn.ReLU(),\n",
        "            nn.Linear(256, 128),\n",
        "            nn.ReLU(),\n",
        "            nn.Linear(128,64),\n",
        "            nn.ReLU(),\n",
        "            nn.Linear(64, 32),\n",
        "            nn.ReLU(),\n",
        "            nn.Linear(32, 16)# Latent dimension\n",
        "        )\n",
        "        self.decoder = nn.Sequential(\n",
        "            nn.Linear(16, 32),\n",
        "            nn.ReLU(),\n",
        "            nn.Linear(32, 64),\n",
        "            nn.ReLU(),\n",
        "            nn.Linear(64, 128),\n",
        "            nn.ReLU(),\n",
        "            nn.Linear(128, 256),\n",
        "            nn.ReLU(),\n",
        "            nn.Linear(256, 512),\n",
        "            nn.ReLU(),\n",
        "            nn.Linear(512, input_dim)\n",
        "        )\n",
        "\n",
        "    def forward(self, x):\n",
        "        # Flatten the input for the linear layers\n",
        "        x = x.view(x.size(0), -1)\n",
        "        encoded = self.encoder(x)\n",
        "        decoded = self.decoder(encoded)\n",
        "        # Reshape the output back to the original input shape (optional, depending on how you use the output)\n",
        "        # decoded = decoded.view(decoded.size(0), 1, 1, -1) # Uncomment if you need the 4D output\n",
        "        return decoded\n",
        "\n",
        "# Get the input dimension from the shape of X\n",
        "input_dim = X.size(-1)\n",
        "\n",
        "# Instantiate the custom autoencoder model\n",
        "autoencoder = SimpleAutoencoder(input_dim)\n",
        "\n",
        "# Move the model to the appropriate device\n",
        "device = torch.device(\"cuda\" if torch.cuda.is_available() else \"cpu\")\n",
        "autoencoder.to(device)\n",
        "\n",
        "print(f\"SimpleAutoencoder model created with input dimension: {input_dim}\")"
      ],
      "execution_count": null,
      "outputs": [
        {
          "output_type": "stream",
          "name": "stdout",
          "text": [
            "SimpleAutoencoder model created with input dimension: 772480\n"
          ]
        }
      ]
    },
    {
      "cell_type": "code",
      "source": [
        "# prompt: plot the encoded features tsne with gene symbol as label\n",
        "\n",
        "import pandas as pd\n",
        "from sklearn.manifold import TSNE\n",
        "import matplotlib.pyplot as plt\n",
        "import seaborn as sns\n",
        "\n",
        "# Get the encoded features\n",
        "autoencoder.eval()\n",
        "with torch.no_grad():\n",
        "    # The autoencoder expects a flattened input\n",
        "    X_flat = X.view(X.size(0), -1).to(device)\n",
        "    encoded_features = autoencoder.encoder(X_flat).cpu().numpy()\n",
        "\n",
        "# Perform t-SNE dimensionality reduction\n",
        "# Set perplexity to a value less than the number of samples (21)\n",
        "tsne = TSNE(n_components=2, random_state=42, perplexity=5)\n",
        "tsne_results = tsne.fit_transform(encoded_features)\n",
        "\n",
        "# Create a DataFrame for plotting\n",
        "tsne_df = pd.DataFrame(data=tsne_results, columns=['TSNE1', 'TSNE2'])\n",
        "tsne_df['gene_symbol'] = df['gene']\n",
        "\n",
        "# Plot the t-SNE results\n",
        "plt.figure(figsize=(12, 10))\n",
        "sns.scatterplot(\n",
        "    x=\"TSNE1\", y=\"TSNE2\",\n",
        "    hue=\"gene_symbol\",\n",
        "    palette=sns.color_palette(\"hsv\", len(tsne_df['gene_symbol'].unique())),\n",
        "    data=tsne_df,\n",
        "    legend=\"full\",\n",
        "    alpha=0.7\n",
        ")\n",
        "plt.title('t-SNE of Encoded Features with Gene Symbols')\n",
        "plt.xlabel('t-SNE Component 1')\n",
        "plt.ylabel('t-SNE Component 2')\n",
        "plt.legend(bbox_to_anchor=(1.05, 1), loc=2)\n",
        "plt.show()"
      ],
      "metadata": {
        "colab": {
          "base_uri": "https://localhost:8080/",
          "height": 635
        },
        "id": "q4IzAfrR5iIJ",
        "outputId": "f656e78c-7a39-465f-fd3e-085d95bc6e82"
      },
      "execution_count": null,
      "outputs": [
        {
          "output_type": "display_data",
          "data": {
            "text/plain": [
              "<Figure size 1200x1000 with 1 Axes>"
            ],
            "image/png": "[encoded data removed]"
          },
          "metadata": {}
        }
      ]
    }
  ]
}