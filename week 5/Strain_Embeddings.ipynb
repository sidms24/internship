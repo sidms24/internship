{
  "nbformat": 4,
  "nbformat_minor": 0,
  "metadata": {
    "colab": {
      "provenance": [],
      "machine_shape": "hm",
      "gpuType": "A100",
      "authorship_tag": "ABX9TyOuJPr7o2rRDKZeTBgrGMi3",
      "include_colab_link": true
    },
    "kernelspec": {
      "name": "python3",
      "display_name": "Python 3"
    },
    "language_info": {
      "name": "python"
    },
    "accelerator": "GPU"
  },
  "cells": [
    {
      "cell_type": "markdown",
      "metadata": {
        "id": "view-in-github",
        "colab_type": "text"
      },
      "source": [
        "<a href=\"https://colab.research.google.com/github/sidms24/internship/blob/main/week%205/Strain_Embeddings.ipynb\" target=\"_parent\"><img src=\"https://colab.research.google.com/assets/colab-badge.svg\" alt=\"Open In Colab\"/></a>"
      ]
    },
    {
      "cell_type": "code",
      "execution_count": 1,
      "metadata": {
        "colab": {
          "base_uri": "https://localhost:8080/"
        },
        "id": "10TndX5eD6aO",
        "outputId": "f75d2e64-38cd-42fe-f7ad-e4623373f271"
      },
      "outputs": [
        {
          "output_type": "stream",
          "name": "stdout",
          "text": [
            "\u001b[?25l   \u001b[90m━━━━━━━━━━━━━━━━━━━━━━━━━━━━━━━━━━━━━━━━\u001b[0m \u001b[32m0.0/3.3 MB\u001b[0m \u001b[31m?\u001b[0m eta \u001b[36m-:--:--\u001b[0m\r\u001b[2K   \u001b[91m━━━━\u001b[0m\u001b[90m╺\u001b[0m\u001b[90m━━━━━━━━━━━━━━━━━━━━━━━━━━━━━━━━━━━\u001b[0m \u001b[32m0.3/3.3 MB\u001b[0m \u001b[31m10.1 MB/s\u001b[0m eta \u001b[36m0:00:01\u001b[0m\r\u001b[2K   \u001b[91m━━━━━━━━━━━━━━━━━━━━━━━━━━━━━━━━━━━━━\u001b[0m\u001b[90m╺\u001b[0m\u001b[90m━━\u001b[0m \u001b[32m3.1/3.3 MB\u001b[0m \u001b[31m44.7 MB/s\u001b[0m eta \u001b[36m0:00:01\u001b[0m\r\u001b[2K   \u001b[90m━━━━━━━━━━━━━━━━━━━━━━━━━━━━━━━━━━━━━━━━\u001b[0m \u001b[32m3.3/3.3 MB\u001b[0m \u001b[31m36.1 MB/s\u001b[0m eta \u001b[36m0:00:00\u001b[0m\n",
            "\u001b[?25h"
          ]
        }
      ],
      "source": [
        "!pip -q install biopython"
      ]
    },
    {
      "cell_type": "code",
      "source": [
        "from google.colab import userdata\n",
        "import os\n",
        "github_token = userdata.get('GITHUB_TOKEN')\n",
        "\n",
        "url = 'https://raw.githubusercontent.com/sidms24/internship/main/week%205/cleaned_data.csv'\n",
        "filename = 'cleaned_data.csv'\n",
        "os.system(f'wget --header=\"Authorization: token {github_token}\" -O \"{filename}\" \"{url}\"')\n",
        "\n",
        "url = 'https://raw.githubusercontent.com/sidms24/internship/main/week%205/sequences%20(1).fasta'\n",
        "filename = 'sequences.fasta'\n",
        "os.system(f'wget --header=\"Authorization: token {github_token}\" -O \"{filename}\" \"{url}\"')\n",
        "\n",
        "url = 'https://raw.githubusercontent.com/sidms24/internship/main/week%205/sequences(all).csv'\n",
        "filename = 'sequences(all).csv'\n",
        "os.system(f'wget --header=\"Authorization: token {github_token}\" -O \"{filename}\" \"{url}\"')\n",
        "\n",
        "\n",
        "url = 'https://raw.githubusercontent.com/sidms24/internship/main/week%205/sequences(all).fasta'\n",
        "filename = 'sequences(all).fasta'\n",
        "os.system(f'wget --header=\"Authorization: token {github_token}\" -O \"{filename}\" \"{url}\"')\n",
        "\n",
        ""
      ],
      "metadata": {
        "colab": {
          "base_uri": "https://localhost:8080/"
        },
        "id": "u78P1-Nallk8",
        "outputId": "2afa2858-6c0a-4984-94b1-f77dcda744c9"
      },
      "execution_count": 3,
      "outputs": [
        {
          "output_type": "execute_result",
          "data": {
            "text/plain": [
              "0"
            ]
          },
          "metadata": {},
          "execution_count": 3
        }
      ]
    },
    {
      "cell_type": "code",
      "source": [
        "import pandas as pd\n",
        "import Bio\n",
        "from Bio import SeqIO\n",
        "import numpy as np\n",
        "import torch\n",
        "import torch.nn as nn\n",
        "import torch.optim as optim\n",
        "from torch.utils.data import DataLoader, TensorDataset\n",
        "import matplotlib.pyplot as plt\n",
        "from tqdm import tqdm\n",
        "device = torch.device(\"cuda\" if torch.cuda.is_available() else \"cpu\")\n",
        "print(device)"
      ],
      "metadata": {
        "colab": {
          "base_uri": "https://localhost:8080/"
        },
        "id": "Sc8BCv-2EOmV",
        "outputId": "aaf26a8f-809c-45fb-b814-18b9c6627e2b"
      },
      "execution_count": 4,
      "outputs": [
        {
          "output_type": "stream",
          "name": "stdout",
          "text": [
            "cuda\n"
          ]
        }
      ]
    },
    {
      "cell_type": "code",
      "source": [
        "records =[]\n",
        "for record in SeqIO.parse(\"sequences.fasta\", \"fasta\"):\n",
        "    records.append({\"Accession\": record.id.split('.')[0], \"Sequence\": str(record.seq)})\n",
        "df = pd.DataFrame(records)"
      ],
      "metadata": {
        "id": "KZhhqWzGET5P"
      },
      "execution_count": 5,
      "outputs": []
    },
    {
      "cell_type": "code",
      "source": [
        "clean_data = pd.read_csv(\"cleaned_data.csv\", index_col=0)\n",
        "df = df.merge(clean_data, on='Accession', how='inner')"
      ],
      "metadata": {
        "id": "QocgEQqqFmhr"
      },
      "execution_count": 7,
      "outputs": []
    },
    {
      "cell_type": "code",
      "source": [
        "training_records = []\n",
        "for record in SeqIO.parse(\"sequences(all).fasta\", \"fasta\"):\n",
        "    training_records.append({\"Accession\": record.id.split('.')[0], \"Sequence\": str(record.seq)})\n",
        "df_train = pd.DataFrame(training_records)"
      ],
      "metadata": {
        "id": "WfVqns2jjQgn"
      },
      "execution_count": 8,
      "outputs": []
    },
    {
      "cell_type": "code",
      "source": [
        "train_df = pd.read_csv(\"sequences(all).csv\", index_col=0)\n",
        "df_train = df_train.merge(train_df, on='Accession', how='inner')\n",
        "df_train = df_train[[\"Accession\", \"Sequence\", \"Length\"]]"
      ],
      "metadata": {
        "id": "vFYuKT7ywnOm"
      },
      "execution_count": 9,
      "outputs": []
    },
    {
      "cell_type": "code",
      "source": [
        "for i in range(len(df)):\n",
        "  if len(df.iloc[i, 2].split(\" \")) > 3:\n",
        "        df.iloc[i, 4]= df.iloc[i, 2].split(\" \")[-1].split('/0')[-1].split('(')[-1].strip(')')"
      ],
      "metadata": {
        "id": "Nyg_lqHFK0-0"
      },
      "execution_count": 12,
      "outputs": []
    },
    {
      "cell_type": "code",
      "source": [
        "def one_hot_encode(seq,max_length = 2366):\n",
        "    mapping = {'A': [1, 0, 0, 0], 'C': [0, 1, 0, 0], 'G': [0, 0, 1, 0], \"T\": [0, 0, 0, 1]}\n",
        "    one_hot = [mapping.get(base, [0, 0, 0, 0]) for base in seq]\n",
        "\n",
        "    # 2. Calculate the amount of padding needed\n",
        "    padding_needed = max_length - len(one_hot)\n",
        "\n",
        "    # 3. Create the padding (a list of zero vectors)\n",
        "    #    Ensure padding_needed is not negative if a sequence is too long.\n",
        "    if padding_needed > 0:\n",
        "        padding = [[0, 0, 0, 0]] * padding_needed\n",
        "        one_hot.extend(padding)\n",
        "\n",
        "    # Optional: Truncate sequences that are longer than max_length\n",
        "    elif padding_needed < 0:\n",
        "        one_hot = one_hot[:max_length]\n",
        "\n",
        "    return one_hot\n"
      ],
      "metadata": {
        "id": "aXYlb1orFzIi"
      },
      "execution_count": 14,
      "outputs": []
    },
    {
      "cell_type": "code",
      "source": [
        "df['Sequence_one_hot'] = df['Sequence'].apply(one_hot_encode)\n",
        "one_hot = pd.get_dummies(df['Segment'], dtype= int)\n",
        "df['Segment_one_hot'] = one_hot.values.tolist()\n",
        "df_train[\"Sequence_one_hot\"] = df_train[\"Sequence\"].apply(one_hot_encode)"
      ],
      "metadata": {
        "id": "fwm6neJOKWul"
      },
      "execution_count": 15,
      "outputs": []
    },
    {
      "cell_type": "code",
      "source": [
        "X= np.array([np.array(seq) for seq in df_train['Sequence_one_hot'].values])\n",
        "\n",
        "X= np.array([seq.flatten() for seq in X])\n",
        "\n",
        "X = torch.tensor(X, dtype=torch.float32)\n",
        "X = X.to(device)"
      ],
      "metadata": {
        "id": "uD4J3J73Saxz"
      },
      "execution_count": 16,
      "outputs": []
    },
    {
      "cell_type": "code",
      "source": [
        "Train_loader = DataLoader(X, batch_size=16, shuffle=False)"
      ],
      "metadata": {
        "id": "4bF1J44aSZpB"
      },
      "execution_count": 17,
      "outputs": []
    },
    {
      "cell_type": "code",
      "source": [
        "class Encoder(nn.Module):\n",
        "  def __init__(self, input_dim, hidden_dim, latent_dim):\n",
        "     super().__init__()\n",
        "     self.encoder = nn.Sequential(\n",
        "         nn.Linear(input_dim, hidden_dim),\n",
        "         nn.ReLU(),\n",
        "         nn.Linear(hidden_dim, hidden_dim // 2),\n",
        "         nn.ReLU(),\n",
        "         nn.Linear(hidden_dim // 2, hidden_dim // 4),\n",
        "         nn.ReLU(),\n",
        "         nn.Linear(hidden_dim // 4, hidden_dim // 8),\n",
        "         nn.ReLU(),\n",
        "         nn.Linear(hidden_dim // 8, latent_dim))\n",
        "\n",
        "  def forward(self, x):\n",
        "    return self.encoder(x)\n",
        "\n",
        "class Decoder(nn.Module):\n",
        "  def __init__(self, latent_dim, hidden_dim, output_dim):\n",
        "     super().__init__()\n",
        "     self.decoder = nn.Sequential(\n",
        "         nn.Linear(latent_dim, hidden_dim // 8),\n",
        "         nn.ReLU(),\n",
        "         nn.Linear(hidden_dim // 8, hidden_dim // 4),\n",
        "         nn.ReLU(),\n",
        "         nn.Linear(hidden_dim // 4, hidden_dim // 2),\n",
        "         nn.ReLU(),\n",
        "         nn.Linear(hidden_dim // 2, hidden_dim),\n",
        "         nn.ReLU(),\n",
        "         nn.Linear(hidden_dim, output_dim))\n",
        "  def forward(self, x):\n",
        "    return self.decoder(x)"
      ],
      "metadata": {
        "id": "KTL3eU5tchSs"
      },
      "execution_count": 18,
      "outputs": []
    },
    {
      "cell_type": "code",
      "source": [
        "encoder = Encoder(input_dim=X.shape[1], hidden_dim=128, latent_dim=2).to(device)\n",
        "decoder = Decoder(2, 128, X.shape[1]).to(device)\n",
        "optimizer = optim.Adam(list(encoder.parameters()) + list(decoder.parameters()), lr=0.0001)\n",
        "criterion = nn.MSELoss()\n",
        "epochs = 100\n",
        "bar = tqdm(range(epochs))\n",
        "for epoch in bar:\n",
        "    epoch_loss = 0.0\n",
        "    for batch in Train_loader:\n",
        "        batch = batch.to(device)\n",
        "        optimizer.zero_grad()\n",
        "        encoded = encoder(batch)\n",
        "        decoded = decoder(encoded)\n",
        "        loss = criterion(decoded, batch)\n",
        "        loss.backward()\n",
        "        epoch_loss += loss.item()\n",
        "        optimizer.step()\n",
        "    epoch_loss /= len(Train_loader)\n",
        "    bar.set_description(f'Epoch [{epoch+1}/{epochs}], Loss: {epoch_loss:.4f}')"
      ],
      "metadata": {
        "colab": {
          "base_uri": "https://localhost:8080/"
        },
        "id": "sNsEdH-Ad7uI",
        "outputId": "7a4a1acc-f0df-4b85-b74c-3085f955265f"
      },
      "execution_count": 19,
      "outputs": [
        {
          "output_type": "stream",
          "name": "stderr",
          "text": [
            "Epoch [100/100], Loss: 0.0095: 100%|██████████| 100/100 [03:45<00:00,  2.25s/it]\n"
          ]
        }
      ]
    },
    {
      "cell_type": "code",
      "source": [
        "weights = encoder.state_dict()\n",
        "torch.save(weights, 'encoder_weights.pth')\n",
        "decoder_weights = decoder.state_dict()\n",
        "torch.save(decoder_weights, 'decoder_weights.pth')\n"
      ],
      "metadata": {
        "id": "I-rTSlGYzLUr"
      },
      "execution_count": 20,
      "outputs": []
    },
    {
      "cell_type": "code",
      "source": [
        "Xt= np.array([np.array(seq) for seq in df['Sequence_one_hot'].values])\n",
        "\n",
        "Xt= np.array([seq.flatten() for seq in Xt])\n",
        "\n",
        "Xt = torch.tensor(Xt, dtype=torch.float32)\n",
        "Xt = Xt.to(device)\n",
        "\n",
        "\n",
        "with torch.no_grad():\n",
        "  latent = encoder(Xt)\n",
        "latent = latent.cpu().numpy()\n",
        "\n",
        "df['Latent'] = latent.tolist()"
      ],
      "metadata": {
        "id": "-ngRWwo2foRp"
      },
      "execution_count": 21,
      "outputs": []
    },
    {
      "cell_type": "code",
      "metadata": {
        "colab": {
          "base_uri": "https://localhost:8080/",
          "height": 1000
        },
        "id": "7f962644",
        "outputId": "e18f6f7b-b8de-42e7-ba93-36e20806d330"
      },
      "source": [
        "import matplotlib.cm as cm\n",
        "\n",
        "# Get unique genotypes and assign a color to each\n",
        "unique_genotypes = df['Genotype'].unique()\n",
        "colors = cm.get_cmap('viridis', len(unique_genotypes)) # Using viridis colormap\n",
        "unique_segments = df['Segment'].unique()\n",
        "colors_segments = cm.get_cmap('tab20', len(unique_segments)) # Using viridis colormap\n",
        "\n",
        "\n",
        "genotype_color_map = {genotype: colors(i) for i, genotype in enumerate(unique_genotypes)}\n",
        "segment_color_map = {segment: colors_segments(i) for i, segment in enumerate(unique_segments)}\n",
        "# Prepare color list for scatter plot based on genotype\n",
        "point_colors = [genotype_color_map[genotype] for genotype in df['Genotype']]\n",
        "points_cols = [segment_color_map[segment] for segment in df['Segment']]\n",
        "\n",
        "\n",
        "fig, ax = plt.subplots(figsize=(15, 12), nrows= 1, ncols = 2)\n",
        "for i in range(len(df)):\n",
        "  ax[0].scatter(df['Latent'].iloc[i][0], df['Latent'].iloc[i][1], color=point_colors[i],\n",
        "              label=df['Genotype'].iloc[i] if i < len(unique_genotypes) else \"\")\n",
        "  ax[1].scatter(df['Latent'].iloc[i][0], df['Latent'].iloc[i][1], color=points_cols[i],\n",
        "              label=df['Segment'].iloc[i] if i < len(unique_segments) else \"\")\n",
        "\n",
        "# Create a legend\n",
        "\n",
        "handles = [plt.Line2D([], [], marker='o', color=genotype_color_map[genotype], linestyle='None', markersize=5, label=genotype) for genotype in unique_genotypes]\n",
        "ax[0].legend(handles=handles, title=\"Genotype\")\n",
        "handles = [plt.Line2D([], [], marker='o', color=segment_color_map[segment], linestyle='None', markersize=5, label=segment) for segment in unique_segments]\n",
        "ax[1].legend(handles=handles, title=\"Segment\")\n",
        "ax[0].set_xlabel('Latent Dimension 1')\n",
        "ax[0].set_ylabel('Latent Dimension 2')\n",
        "ax[1].set_xlabel('Latent Dimension 1')\n",
        "ax[1].set_ylabel('Latent Dimension 2')\n",
        "ax[0].set_title('Latent Space Visualization by Genotype')\n",
        "ax[1].set_title('Latent Space Visualization by Segment')\n",
        "ax[0].grid(True)\n",
        "ax[1].grid(True)\n",
        "plt.show()\n",
        "\n"
      ],
      "execution_count": 23,
      "outputs": [
        {
          "output_type": "stream",
          "name": "stderr",
          "text": [
            "/tmp/ipython-input-23-2728459450.py:5: MatplotlibDeprecationWarning: The get_cmap function was deprecated in Matplotlib 3.7 and will be removed in 3.11. Use ``matplotlib.colormaps[name]`` or ``matplotlib.colormaps.get_cmap()`` or ``pyplot.get_cmap()`` instead.\n",
            "  colors = cm.get_cmap('viridis', len(unique_genotypes)) # Using viridis colormap\n",
            "/tmp/ipython-input-23-2728459450.py:7: MatplotlibDeprecationWarning: The get_cmap function was deprecated in Matplotlib 3.7 and will be removed in 3.11. Use ``matplotlib.colormaps[name]`` or ``matplotlib.colormaps.get_cmap()`` or ``pyplot.get_cmap()`` instead.\n",
            "  colors_segments = cm.get_cmap('tab20', len(unique_segments)) # Using viridis colormap\n"
          ]
        },
        {
          "output_type": "display_data",
          "data": {
            "text/plain": [
              "<Figure size 1500x1200 with 2 Axes>"
            ],
            "image/png": "[encoded data removed]"
          },
          "metadata": {}
        }
      ]
    },
    {
      "cell_type": "code",
      "source": [
        "cleaned_data = clean_data.merge(df[[\"Accession\", \"Latent\"]], on='Accession', how='inner')\n",
        "cleaned_data.to_csv('latents.csv')"
      ],
      "metadata": {
        "id": "PtFDYbbW01zv"
      },
      "execution_count": 28,
      "outputs": []
    },
    {
      "cell_type": "code",
      "source": [
        "cleaned_data"
      ],
      "metadata": {
        "colab": {
          "base_uri": "https://localhost:8080/",
          "height": 424
        },
        "id": "_6uccCkL1BA4",
        "outputId": "2484674e-c299-407a-c88b-53d254125857"
      },
      "execution_count": 29,
      "outputs": [
        {
          "output_type": "execute_result",
          "data": {
            "text/plain": [
              "     Accession Genotype  Segment  Length Collection_Date   season  \\\n",
              "0     PV283060     H1N1        1    2280      2024-12-30  2024/25   \n",
              "1     PV283059     H1N1        2    2274      2024-12-30  2024/25   \n",
              "2     PV283058     H1N1        3    2151      2024-12-30  2024/25   \n",
              "3     PV283057     H1N1        8     838      2024-12-30  2024/25   \n",
              "4     PV283056     H1N1        5    1497      2024-12-30  2024/25   \n",
              "...        ...      ...      ...     ...             ...      ...   \n",
              "1491  MK381745     H3N2        8     838      2018-02-07  2017/18   \n",
              "1492  MK381678     H3N2        5    1497      2018-02-07  2017/18   \n",
              "1493  MK381610     H3N2        6    1410      2018-02-07  2017/18   \n",
              "1494  MK381542     H3N2        7     982      2018-02-07  2017/18   \n",
              "1495  MK381474     H3N2        4    1701      2018-02-07  2017/18   \n",
              "\n",
              "                                         Latent  \n",
              "0     [30.597551345825195, -12.617039680480957]  \n",
              "1       [81.76383209228516, 18.627729415893555]  \n",
              "2       [90.32715606689453, 28.209314346313477]  \n",
              "3      [3.9423556327819824, 19.518476486206055]  \n",
              "4       [33.13465118408203, 34.237300872802734]  \n",
              "...                                         ...  \n",
              "1491   [6.5306549072265625, 18.491729736328125]  \n",
              "1492    [42.337791442871094, 37.20896530151367]  \n",
              "1493     [10.402609825134277, 9.40854549407959]  \n",
              "1494   [-5.180500507354736, 19.723649978637695]  \n",
              "1495    [38.76634216308594, 18.082427978515625]  \n",
              "\n",
              "[1496 rows x 7 columns]"
            ],
            "text/html": [
              "\n",
              "  <div id=\"df-490a4805-0c20-4be5-b8f1-2a2fd995776c\" class=\"colab-df-container\">\n",
              "    <div>\n",
              "<style scoped>\n",
              "    .dataframe tbody tr th:only-of-type {\n",
              "        vertical-align: middle;\n",
              "    }\n",
              "\n",
              "    .dataframe tbody tr th {\n",
              "        vertical-align: top;\n",
              "    }\n",
              "\n",
              "    .dataframe thead th {\n",
              "        text-align: right;\n",
              "    }\n",
              "</style>\n",
              "<table border=\"1\" class=\"dataframe\">\n",
              "  <thead>\n",
              "    <tr style=\"text-align: right;\">\n",
              "      <th></th>\n",
              "      <th>Accession</th>\n",
              "      <th>Genotype</th>\n",
              "      <th>Segment</th>\n",
              "      <th>Length</th>\n",
              "      <th>Collection_Date</th>\n",
              "      <th>season</th>\n",
              "      <th>Latent</th>\n",
              "    </tr>\n",
              "  </thead>\n",
              "  <tbody>\n",
              "    <tr>\n",
              "      <th>0</th>\n",
              "      <td>PV283060</td>\n",
              "      <td>H1N1</td>\n",
              "      <td>1</td>\n",
              "      <td>2280</td>\n",
              "      <td>2024-12-30</td>\n",
              "      <td>2024/25</td>\n",
              "      <td>[30.597551345825195, -12.617039680480957]</td>\n",
              "    </tr>\n",
              "    <tr>\n",
              "      <th>1</th>\n",
              "      <td>PV283059</td>\n",
              "      <td>H1N1</td>\n",
              "      <td>2</td>\n",
              "      <td>2274</td>\n",
              "      <td>2024-12-30</td>\n",
              "      <td>2024/25</td>\n",
              "      <td>[81.76383209228516, 18.627729415893555]</td>\n",
              "    </tr>\n",
              "    <tr>\n",
              "      <th>2</th>\n",
              "      <td>PV283058</td>\n",
              "      <td>H1N1</td>\n",
              "      <td>3</td>\n",
              "      <td>2151</td>\n",
              "      <td>2024-12-30</td>\n",
              "      <td>2024/25</td>\n",
              "      <td>[90.32715606689453, 28.209314346313477]</td>\n",
              "    </tr>\n",
              "    <tr>\n",
              "      <th>3</th>\n",
              "      <td>PV283057</td>\n",
              "      <td>H1N1</td>\n",
              "      <td>8</td>\n",
              "      <td>838</td>\n",
              "      <td>2024-12-30</td>\n",
              "      <td>2024/25</td>\n",
              "      <td>[3.9423556327819824, 19.518476486206055]</td>\n",
              "    </tr>\n",
              "    <tr>\n",
              "      <th>4</th>\n",
              "      <td>PV283056</td>\n",
              "      <td>H1N1</td>\n",
              "      <td>5</td>\n",
              "      <td>1497</td>\n",
              "      <td>2024-12-30</td>\n",
              "      <td>2024/25</td>\n",
              "      <td>[33.13465118408203, 34.237300872802734]</td>\n",
              "    </tr>\n",
              "    <tr>\n",
              "      <th>...</th>\n",
              "      <td>...</td>\n",
              "      <td>...</td>\n",
              "      <td>...</td>\n",
              "      <td>...</td>\n",
              "      <td>...</td>\n",
              "      <td>...</td>\n",
              "      <td>...</td>\n",
              "    </tr>\n",
              "    <tr>\n",
              "      <th>1491</th>\n",
              "      <td>MK381745</td>\n",
              "      <td>H3N2</td>\n",
              "      <td>8</td>\n",
              "      <td>838</td>\n",
              "      <td>2018-02-07</td>\n",
              "      <td>2017/18</td>\n",
              "      <td>[6.5306549072265625, 18.491729736328125]</td>\n",
              "    </tr>\n",
              "    <tr>\n",
              "      <th>1492</th>\n",
              "      <td>MK381678</td>\n",
              "      <td>H3N2</td>\n",
              "      <td>5</td>\n",
              "      <td>1497</td>\n",
              "      <td>2018-02-07</td>\n",
              "      <td>2017/18</td>\n",
              "      <td>[42.337791442871094, 37.20896530151367]</td>\n",
              "    </tr>\n",
              "    <tr>\n",
              "      <th>1493</th>\n",
              "      <td>MK381610</td>\n",
              "      <td>H3N2</td>\n",
              "      <td>6</td>\n",
              "      <td>1410</td>\n",
              "      <td>2018-02-07</td>\n",
              "      <td>2017/18</td>\n",
              "      <td>[10.402609825134277, 9.40854549407959]</td>\n",
              "    </tr>\n",
              "    <tr>\n",
              "      <th>1494</th>\n",
              "      <td>MK381542</td>\n",
              "      <td>H3N2</td>\n",
              "      <td>7</td>\n",
              "      <td>982</td>\n",
              "      <td>2018-02-07</td>\n",
              "      <td>2017/18</td>\n",
              "      <td>[-5.180500507354736, 19.723649978637695]</td>\n",
              "    </tr>\n",
              "    <tr>\n",
              "      <th>1495</th>\n",
              "      <td>MK381474</td>\n",
              "      <td>H3N2</td>\n",
              "      <td>4</td>\n",
              "      <td>1701</td>\n",
              "      <td>2018-02-07</td>\n",
              "      <td>2017/18</td>\n",
              "      <td>[38.76634216308594, 18.082427978515625]</td>\n",
              "    </tr>\n",
              "  </tbody>\n",
              "</table>\n",
              "<p>1496 rows × 7 columns</p>\n",
              "</div>\n",
              "    <div class=\"colab-df-buttons\">\n",
              "\n",
              "  <div class=\"colab-df-container\">\n",
              "    <button class=\"colab-df-convert\" onclick=\"convertToInteractive('df-490a4805-0c20-4be5-b8f1-2a2fd995776c')\"\n",
              "            title=\"Convert this dataframe to an interactive table.\"\n",
              "            style=\"display:none;\">\n",
              "\n",
              "  <svg xmlns=\"http://www.w3.org/2000/svg\" height=\"24px\" viewBox=\"0 -960 960 960\">\n",
              "    <path d=\"M120-120v-720h720v720H120Zm60-500h600v-160H180v160Zm220 220h160v-160H400v160Zm0 220h160v-160H400v160ZM180-400h160v-160H180v160Zm440 0h160v-160H620v160ZM180-180h160v-160H180v160Zm440 0h160v-160H620v160Z\"/>\n",
              "  </svg>\n",
              "    </button>\n",
              "\n",
              "  <style>\n",
              "    .colab-df-container {\n",
              "      display:flex;\n",
              "      gap: 12px;\n",
              "    }\n",
              "\n",
              "    .colab-df-convert {\n",
              "      background-color: #E8F0FE;\n",
              "      border: none;\n",
              "      border-radius: 50%;\n",
              "      cursor: pointer;\n",
              "      display: none;\n",
              "      fill: #1967D2;\n",
              "      height: 32px;\n",
              "      padding: 0 0 0 0;\n",
              "      width: 32px;\n",
              "    }\n",
              "\n",
              "    .colab-df-convert:hover {\n",
              "      background-color: #E2EBFA;\n",
              "      box-shadow: 0px 1px 2px rgba(60, 64, 67, 0.3), 0px 1px 3px 1px rgba(60, 64, 67, 0.15);\n",
              "      fill: #174EA6;\n",
              "    }\n",
              "\n",
              "    .colab-df-buttons div {\n",
              "      margin-bottom: 4px;\n",
              "    }\n",
              "\n",
              "    [theme=dark] .colab-df-convert {\n",
              "      background-color: #3B4455;\n",
              "      fill: #D2E3FC;\n",
              "    }\n",
              "\n",
              "    [theme=dark] .colab-df-convert:hover {\n",
              "      background-color: #434B5C;\n",
              "      box-shadow: 0px 1px 3px 1px rgba(0, 0, 0, 0.15);\n",
              "      filter: drop-shadow(0px 1px 2px rgba(0, 0, 0, 0.3));\n",
              "      fill: #FFFFFF;\n",
              "    }\n",
              "  </style>\n",
              "\n",
              "    <script>\n",
              "      const buttonEl =\n",
              "        document.querySelector('#df-490a4805-0c20-4be5-b8f1-2a2fd995776c button.colab-df-convert');\n",
              "      buttonEl.style.display =\n",
              "        google.colab.kernel.accessAllowed ? 'block' : 'none';\n",
              "\n",
              "      async function convertToInteractive(key) {\n",
              "        const element = document.querySelector('#df-490a4805-0c20-4be5-b8f1-2a2fd995776c');\n",
              "        const dataTable =\n",
              "          await google.colab.kernel.invokeFunction('convertToInteractive',\n",
              "                                                    [key], {});\n",
              "        if (!dataTable) return;\n",
              "\n",
              "        const docLinkHtml = 'Like what you see? Visit the ' +\n",
              "          '<a target=\"_blank\" href=https://colab.research.google.com/notebooks/data_table.ipynb>data table notebook</a>'\n",
              "          + ' to learn more about interactive tables.';\n",
              "        element.innerHTML = '';\n",
              "        dataTable['output_type'] = 'display_data';\n",
              "        await google.colab.output.renderOutput(dataTable, element);\n",
              "        const docLink = document.createElement('div');\n",
              "        docLink.innerHTML = docLinkHtml;\n",
              "        element.appendChild(docLink);\n",
              "      }\n",
              "    </script>\n",
              "  </div>\n",
              "\n",
              "\n",
              "    <div id=\"df-893c47d4-fb82-44a8-9236-1f01f2b56b4a\">\n",
              "      <button class=\"colab-df-quickchart\" onclick=\"quickchart('df-893c47d4-fb82-44a8-9236-1f01f2b56b4a')\"\n",
              "                title=\"Suggest charts\"\n",
              "                style=\"display:none;\">\n",
              "\n",
              "<svg xmlns=\"http://www.w3.org/2000/svg\" height=\"24px\"viewBox=\"0 0 24 24\"\n",
              "     width=\"24px\">\n",
              "    <g>\n",
              "        <path d=\"M19 3H5c-1.1 0-2 .9-2 2v14c0 1.1.9 2 2 2h14c1.1 0 2-.9 2-2V5c0-1.1-.9-2-2-2zM9 17H7v-7h2v7zm4 0h-2V7h2v10zm4 0h-2v-4h2v4z\"/>\n",
              "    </g>\n",
              "</svg>\n",
              "      </button>\n",
              "\n",
              "<style>\n",
              "  .colab-df-quickchart {\n",
              "      --bg-color: #E8F0FE;\n",
              "      --fill-color: #1967D2;\n",
              "      --hover-bg-color: #E2EBFA;\n",
              "      --hover-fill-color: #174EA6;\n",
              "      --disabled-fill-color: #AAA;\n",
              "      --disabled-bg-color: #DDD;\n",
              "  }\n",
              "\n",
              "  [theme=dark] .colab-df-quickchart {\n",
              "      --bg-color: #3B4455;\n",
              "      --fill-color: #D2E3FC;\n",
              "      --hover-bg-color: #434B5C;\n",
              "      --hover-fill-color: #FFFFFF;\n",
              "      --disabled-bg-color: #3B4455;\n",
              "      --disabled-fill-color: #666;\n",
              "  }\n",
              "\n",
              "  .colab-df-quickchart {\n",
              "    background-color: var(--bg-color);\n",
              "    border: none;\n",
              "    border-radius: 50%;\n",
              "    cursor: pointer;\n",
              "    display: none;\n",
              "    fill: var(--fill-color);\n",
              "    height: 32px;\n",
              "    padding: 0;\n",
              "    width: 32px;\n",
              "  }\n",
              "\n",
              "  .colab-df-quickchart:hover {\n",
              "    background-color: var(--hover-bg-color);\n",
              "    box-shadow: 0 1px 2px rgba(60, 64, 67, 0.3), 0 1px 3px 1px rgba(60, 64, 67, 0.15);\n",
              "    fill: var(--button-hover-fill-color);\n",
              "  }\n",
              "\n",
              "  .colab-df-quickchart-complete:disabled,\n",
              "  .colab-df-quickchart-complete:disabled:hover {\n",
              "    background-color: var(--disabled-bg-color);\n",
              "    fill: var(--disabled-fill-color);\n",
              "    box-shadow: none;\n",
              "  }\n",
              "\n",
              "  .colab-df-spinner {\n",
              "    border: 2px solid var(--fill-color);\n",
              "    border-color: transparent;\n",
              "    border-bottom-color: var(--fill-color);\n",
              "    animation:\n",
              "      spin 1s steps(1) infinite;\n",
              "  }\n",
              "\n",
              "  @keyframes spin {\n",
              "    0% {\n",
              "      border-color: transparent;\n",
              "      border-bottom-color: var(--fill-color);\n",
              "      border-left-color: var(--fill-color);\n",
              "    }\n",
              "    20% {\n",
              "      border-color: transparent;\n",
              "      border-left-color: var(--fill-color);\n",
              "      border-top-color: var(--fill-color);\n",
              "    }\n",
              "    30% {\n",
              "      border-color: transparent;\n",
              "      border-left-color: var(--fill-color);\n",
              "      border-top-color: var(--fill-color);\n",
              "      border-right-color: var(--fill-color);\n",
              "    }\n",
              "    40% {\n",
              "      border-color: transparent;\n",
              "      border-right-color: var(--fill-color);\n",
              "      border-top-color: var(--fill-color);\n",
              "    }\n",
              "    60% {\n",
              "      border-color: transparent;\n",
              "      border-right-color: var(--fill-color);\n",
              "    }\n",
              "    80% {\n",
              "      border-color: transparent;\n",
              "      border-right-color: var(--fill-color);\n",
              "      border-bottom-color: var(--fill-color);\n",
              "    }\n",
              "    90% {\n",
              "      border-color: transparent;\n",
              "      border-bottom-color: var(--fill-color);\n",
              "    }\n",
              "  }\n",
              "</style>\n",
              "\n",
              "      <script>\n",
              "        async function quickchart(key) {\n",
              "          const quickchartButtonEl =\n",
              "            document.querySelector('#' + key + ' button');\n",
              "          quickchartButtonEl.disabled = true;  // To prevent multiple clicks.\n",
              "          quickchartButtonEl.classList.add('colab-df-spinner');\n",
              "          try {\n",
              "            const charts = await google.colab.kernel.invokeFunction(\n",
              "                'suggestCharts', [key], {});\n",
              "          } catch (error) {\n",
              "            console.error('Error during call to suggestCharts:', error);\n",
              "          }\n",
              "          quickchartButtonEl.classList.remove('colab-df-spinner');\n",
              "          quickchartButtonEl.classList.add('colab-df-quickchart-complete');\n",
              "        }\n",
              "        (() => {\n",
              "          let quickchartButtonEl =\n",
              "            document.querySelector('#df-893c47d4-fb82-44a8-9236-1f01f2b56b4a button');\n",
              "          quickchartButtonEl.style.display =\n",
              "            google.colab.kernel.accessAllowed ? 'block' : 'none';\n",
              "        })();\n",
              "      </script>\n",
              "    </div>\n",
              "\n",
              "  <div id=\"id_12053c7f-dcc6-4baa-bd18-1039d516352a\">\n",
              "    <style>\n",
              "      .colab-df-generate {\n",
              "        background-color: #E8F0FE;\n",
              "        border: none;\n",
              "        border-radius: 50%;\n",
              "        cursor: pointer;\n",
              "        display: none;\n",
              "        fill: #1967D2;\n",
              "        height: 32px;\n",
              "        padding: 0 0 0 0;\n",
              "        width: 32px;\n",
              "      }\n",
              "\n",
              "      .colab-df-generate:hover {\n",
              "        background-color: #E2EBFA;\n",
              "        box-shadow: 0px 1px 2px rgba(60, 64, 67, 0.3), 0px 1px 3px 1px rgba(60, 64, 67, 0.15);\n",
              "        fill: #174EA6;\n",
              "      }\n",
              "\n",
              "      [theme=dark] .colab-df-generate {\n",
              "        background-color: #3B4455;\n",
              "        fill: #D2E3FC;\n",
              "      }\n",
              "\n",
              "      [theme=dark] .colab-df-generate:hover {\n",
              "        background-color: #434B5C;\n",
              "        box-shadow: 0px 1px 3px 1px rgba(0, 0, 0, 0.15);\n",
              "        filter: drop-shadow(0px 1px 2px rgba(0, 0, 0, 0.3));\n",
              "        fill: #FFFFFF;\n",
              "      }\n",
              "    </style>\n",
              "    <button class=\"colab-df-generate\" onclick=\"generateWithVariable('cleaned_data')\"\n",
              "            title=\"Generate code using this dataframe.\"\n",
              "            style=\"display:none;\">\n",
              "\n",
              "  <svg xmlns=\"http://www.w3.org/2000/svg\" height=\"24px\"viewBox=\"0 0 24 24\"\n",
              "       width=\"24px\">\n",
              "    <path d=\"M7,19H8.4L18.45,9,17,7.55,7,17.6ZM5,21V16.75L18.45,3.32a2,2,0,0,1,2.83,0l1.4,1.43a1.91,1.91,0,0,1,.58,1.4,1.91,1.91,0,0,1-.58,1.4L9.25,21ZM18.45,9,17,7.55Zm-12,3A5.31,5.31,0,0,0,4.9,8.1,5.31,5.31,0,0,0,1,6.5,5.31,5.31,0,0,0,4.9,4.9,5.31,5.31,0,0,0,6.5,1,5.31,5.31,0,0,0,8.1,4.9,5.31,5.31,0,0,0,12,6.5,5.46,5.46,0,0,0,6.5,12Z\"/>\n",
              "  </svg>\n",
              "    </button>\n",
              "    <script>\n",
              "      (() => {\n",
              "      const buttonEl =\n",
              "        document.querySelector('#id_12053c7f-dcc6-4baa-bd18-1039d516352a button.colab-df-generate');\n",
              "      buttonEl.style.display =\n",
              "        google.colab.kernel.accessAllowed ? 'block' : 'none';\n",
              "\n",
              "      buttonEl.onclick = () => {\n",
              "        google.colab.notebook.generateWithVariable('cleaned_data');\n",
              "      }\n",
              "      })();\n",
              "    </script>\n",
              "  </div>\n",
              "\n",
              "    </div>\n",
              "  </div>\n"
            ],
            "application/vnd.google.colaboratory.intrinsic+json": {
              "type": "dataframe",
              "variable_name": "cleaned_data",
              "summary": "{\n  \"name\": \"cleaned_data\",\n  \"rows\": 1496,\n  \"fields\": [\n    {\n      \"column\": \"Accession\",\n      \"properties\": {\n        \"dtype\": \"string\",\n        \"num_unique_values\": 1496,\n        \"samples\": [\n          \"OQ615569\",\n          \"MK743251\",\n          \"OP101032\"\n        ],\n        \"semantic_type\": \"\",\n        \"description\": \"\"\n      }\n    },\n    {\n      \"column\": \"Genotype\",\n      \"properties\": {\n        \"dtype\": \"category\",\n        \"num_unique_values\": 6,\n        \"samples\": [\n          \"H1N1\",\n          \"H5N1\",\n          \"H1\"\n        ],\n        \"semantic_type\": \"\",\n        \"description\": \"\"\n      }\n    },\n    {\n      \"column\": \"Segment\",\n      \"properties\": {\n        \"dtype\": \"number\",\n        \"std\": 2,\n        \"min\": 1,\n        \"max\": 8,\n        \"num_unique_values\": 8,\n        \"samples\": [\n          2,\n          6,\n          1\n        ],\n        \"semantic_type\": \"\",\n        \"description\": \"\"\n      }\n    },\n    {\n      \"column\": \"Length\",\n      \"properties\": {\n        \"dtype\": \"number\",\n        \"std\": 527,\n        \"min\": 838,\n        \"max\": 2299,\n        \"num_unique_values\": 27,\n        \"samples\": [\n          851,\n          2271,\n          1704\n        ],\n        \"semantic_type\": \"\",\n        \"description\": \"\"\n      }\n    },\n    {\n      \"column\": \"Collection_Date\",\n      \"properties\": {\n        \"dtype\": \"object\",\n        \"num_unique_values\": 106,\n        \"samples\": [\n          \"2018-01-16\",\n          \"2023-11-17\",\n          \"2024-12-11\"\n        ],\n        \"semantic_type\": \"\",\n        \"description\": \"\"\n      }\n    },\n    {\n      \"column\": \"season\",\n      \"properties\": {\n        \"dtype\": \"category\",\n        \"num_unique_values\": 6,\n        \"samples\": [\n          \"2024/25\",\n          \"2023/24\",\n          \"2017/18\"\n        ],\n        \"semantic_type\": \"\",\n        \"description\": \"\"\n      }\n    },\n    {\n      \"column\": \"Latent\",\n      \"properties\": {\n        \"dtype\": \"object\",\n        \"semantic_type\": \"\",\n        \"description\": \"\"\n      }\n    }\n  ]\n}"
            }
          },
          "metadata": {},
          "execution_count": 29
        }
      ]
    }
  ]
}