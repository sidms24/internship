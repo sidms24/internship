{
  "nbformat": 4,
  "nbformat_minor": 0,
  "metadata": {
    "colab": {
      "provenance": [],
      "machine_shape": "hm",
      "gpuType": "L4",
      "authorship_tag": "ABX9TyOGNsaSUuA1hozJsZ0qsv+g",
      "include_colab_link": true
    },
    "kernelspec": {
      "name": "python3",
      "display_name": "Python 3"
    },
    "language_info": {
      "name": "python"
    },
    "accelerator": "GPU"
  },
  "cells": [
    {
      "cell_type": "markdown",
      "metadata": {
        "id": "view-in-github",
        "colab_type": "text"
      },
      "source": [
        "<a href=\"https://colab.research.google.com/github/sidms24/internship/blob/main/week%205/Strain_Embeddings.ipynb\" target=\"_parent\"><img src=\"https://colab.research.google.com/assets/colab-badge.svg\" alt=\"Open In Colab\"/></a>"
      ]
    },
    {
      "cell_type": "code",
      "execution_count": 1,
      "metadata": {
        "colab": {
          "base_uri": "https://localhost:8080/"
        },
        "id": "10TndX5eD6aO",
        "outputId": "7b82a65c-2d93-4523-cea4-658ae69273cd"
      },
      "outputs": [
        {
          "output_type": "stream",
          "name": "stdout",
          "text": [
            "Collecting biopython\n",
            "  Downloading biopython-1.85-cp311-cp311-manylinux_2_17_x86_64.manylinux2014_x86_64.whl.metadata (13 kB)\n",
            "Requirement already satisfied: numpy in /usr/local/lib/python3.11/dist-packages (from biopython) (2.0.2)\n",
            "Downloading biopython-1.85-cp311-cp311-manylinux_2_17_x86_64.manylinux2014_x86_64.whl (3.3 MB)\n",
            "\u001b[2K   \u001b[90m━━━━━━━━━━━━━━━━━━━━━━━━━━━━━━━━━━━━━━━━\u001b[0m \u001b[32m3.3/3.3 MB\u001b[0m \u001b[31m46.1 MB/s\u001b[0m eta \u001b[36m0:00:00\u001b[0m\n",
            "\u001b[?25hInstalling collected packages: biopython\n",
            "Successfully installed biopython-1.85\n"
          ]
        }
      ],
      "source": [
        "!pip install biopython"
      ]
    },
    {
      "cell_type": "code",
      "source": [
        "!wget -O \"cleaned_data.csv\" https://raw.githubusercontent.com/sidms24/internship/0d23e370d6dd85551de8ca9e9fa6a03bff94a516/week%205/cleaned_data.csv?token=GHSAT0AAAAAADFXXNIJEI5QW4LWSWJMZZF62DOPQCA"
      ],
      "metadata": {
        "colab": {
          "base_uri": "https://localhost:8080/"
        },
        "id": "0mZpeOiRFsQ5",
        "outputId": "0bfbd4bf-cce4-4182-88c1-f51e9dbe6d14"
      },
      "execution_count": 4,
      "outputs": [
        {
          "output_type": "stream",
          "name": "stdout",
          "text": [
            "--2025-07-09 14:25:17--  https://raw.githubusercontent.com/sidms24/internship/0d23e370d6dd85551de8ca9e9fa6a03bff94a516/week%205/cleaned_data.csv?token=GHSAT0AAAAAADFXXNIJEI5QW4LWSWJMZZF62DOPQCA\n",
            "Resolving raw.githubusercontent.com (raw.githubusercontent.com)... 185.199.108.133, 185.199.109.133, 185.199.110.133, ...\n",
            "Connecting to raw.githubusercontent.com (raw.githubusercontent.com)|185.199.108.133|:443... connected.\n",
            "HTTP request sent, awaiting response... 200 OK\n",
            "Length: 64102 (63K) [text/plain]\n",
            "Saving to: ‘cleaned_data.csv’\n",
            "\n",
            "\rcleaned_data.csv      0%[                    ]       0  --.-KB/s               \rcleaned_data.csv    100%[===================>]  62.60K  --.-KB/s    in 0.01s   \n",
            "\n",
            "2025-07-09 14:25:17 (4.92 MB/s) - ‘cleaned_data.csv’ saved [64102/64102]\n",
            "\n"
          ]
        }
      ]
    },
    {
      "cell_type": "code",
      "source": [
        "!wget -O \"sequences.fasta\" \"https://raw.githubusercontent.com/sidms24/internship/refs/heads/main/week%205/sequences%20(1).fasta?token=GHSAT0AAAAAADFXXNIIXDMTZUZKSKVRBDXW2DOPPLA\""
      ],
      "metadata": {
        "colab": {
          "base_uri": "https://localhost:8080/"
        },
        "id": "df-fyMClZtDS",
        "outputId": "5a92efc4-9ec0-43bf-ce3f-8a884a0d1178"
      },
      "execution_count": 3,
      "outputs": [
        {
          "output_type": "stream",
          "name": "stdout",
          "text": [
            "--2025-07-09 14:25:04--  https://raw.githubusercontent.com/sidms24/internship/refs/heads/main/week%205/sequences%20(1).fasta?token=GHSAT0AAAAAADFXXNIIXDMTZUZKSKVRBDXW2DOPPLA\n",
            "Resolving raw.githubusercontent.com (raw.githubusercontent.com)... 185.199.108.133, 185.199.110.133, 185.199.111.133, ...\n",
            "Connecting to raw.githubusercontent.com (raw.githubusercontent.com)|185.199.108.133|:443... connected.\n",
            "HTTP request sent, awaiting response... 200 OK\n",
            "Length: 2700066 (2.6M) [text/plain]\n",
            "Saving to: ‘sequences.fasta’\n",
            "\n",
            "sequences.fasta     100%[===================>]   2.57M  --.-KB/s    in 0.05s   \n",
            "\n",
            "2025-07-09 14:25:04 (47.4 MB/s) - ‘sequences.fasta’ saved [2700066/2700066]\n",
            "\n"
          ]
        }
      ]
    },
    {
      "cell_type": "code",
      "source": [
        "import pandas as pd\n",
        "import Bio\n",
        "from Bio import SeqIO\n",
        "import numpy as np\n",
        "import torch\n",
        "import torch.nn as nn\n",
        "import torch.optim as optim\n",
        "from torch.utils.data import DataLoader, TensorDataset\n",
        "import matplotlib.pyplot as plt\n",
        "from tqdm import tqdm\n",
        "device = torch.device(\"cuda\" if torch.cuda.is_available() else \"cpu\")\n",
        "print(device)"
      ],
      "metadata": {
        "colab": {
          "base_uri": "https://localhost:8080/"
        },
        "id": "Sc8BCv-2EOmV",
        "outputId": "21e717f9-5fd0-43e7-b043-95b6e5244845"
      },
      "execution_count": 59,
      "outputs": [
        {
          "output_type": "stream",
          "name": "stdout",
          "text": [
            "cuda\n"
          ]
        }
      ]
    },
    {
      "cell_type": "code",
      "source": [
        "records =[]\n",
        "for record in SeqIO.parse(\"sequences.fasta\", \"fasta\"):\n",
        "    records.append({\"Accession\": record.id.split('.')[0], \"Sequence\": str(record.seq)})\n",
        "df = pd.DataFrame(records)"
      ],
      "metadata": {
        "id": "KZhhqWzGET5P"
      },
      "execution_count": 30,
      "outputs": []
    },
    {
      "cell_type": "code",
      "source": [
        "clean_data = pd.read_csv(\"/content/cleaned_data.csv\", index_col=0)\n",
        "df = df.merge(clean_data, on='Accession', how='inner')\n",
        "df.dropna(inplace=True)\n",
        "df.reset_index(drop=True, inplace=True)"
      ],
      "metadata": {
        "id": "QocgEQqqFmhr"
      },
      "execution_count": 31,
      "outputs": []
    },
    {
      "cell_type": "code",
      "source": [
        "def one_hot_encode(seq,max_length = 2299):\n",
        "    mapping = {'A': [1, 0, 0, 0], 'C': [0, 1, 0, 0], 'G': [0, 0, 1, 0], \"T\": [0, 0, 0, 1]}\n",
        "    one_hot = [mapping.get(base, [0, 0, 0, 0]) for base in seq]\n",
        "\n",
        "    # 2. Calculate the amount of padding needed\n",
        "    padding_needed = max_length - len(one_hot)\n",
        "\n",
        "    # 3. Create the padding (a list of zero vectors)\n",
        "    #    Ensure padding_needed is not negative if a sequence is too long.\n",
        "    if padding_needed > 0:\n",
        "        padding = [[0, 0, 0, 0]] * padding_needed\n",
        "        one_hot.extend(padding)\n",
        "\n",
        "    # Optional: Truncate sequences that are longer than max_length\n",
        "    elif padding_needed < 0:\n",
        "        one_hot = one_hot[:max_length]\n",
        "\n",
        "    return one_hot\n",
        "def genotype_encoder(Genotype):\n",
        "  mapping = {'H1N1': [1, 0, 0, 0, 0, 0], 'H5N1': [0, 1, 0, 0, 0, 0],\n",
        "             'H3N2': [0, 0, 1, 0, 0, 0], 'H1N2': [0, 0, 0, 1, 0, 0],\n",
        "             'H1': [0, 0, 0, 0, 1, 0], 'H3': [0, 0, 0, 0, 0, 1]}\n",
        "  return mapping[Genotype]"
      ],
      "metadata": {
        "id": "aXYlb1orFzIi"
      },
      "execution_count": 33,
      "outputs": []
    },
    {
      "cell_type": "code",
      "source": [
        "df['Genotype_one_hot'] = df['Genotype'].apply(genotype_encoder)\n",
        "df['Sequence_one_hot'] = df['Sequence'].apply(one_hot_encode)\n",
        "one_hot = pd.get_dummies(df['Segment'], dtype= int)\n",
        "df['Segment_one_hot'] = one_hot.values.tolist()"
      ],
      "metadata": {
        "id": "fwm6neJOKWul"
      },
      "execution_count": 34,
      "outputs": []
    },
    {
      "cell_type": "code",
      "source": [
        "df['Collection_Date'] = pd.to_datetime(df['Collection_Date'], errors='coerce')\n",
        "df['Month'] = df['Collection_Date'].dt.month\n",
        "df['Day'] = df['Collection_Date'].dt.dayofyear\n",
        "df['Year'] = df['Collection_Date'].dt.year"
      ],
      "metadata": {
        "id": "OugfmtJaScLd"
      },
      "execution_count": 11,
      "outputs": []
    },
    {
      "cell_type": "code",
      "source": [
        "df['Year_norm'] = (df['Year'] - df['Year'].mean()) / df['Year'].std()\n",
        "df['Month_sin'] = np.sin(2 * np.pi * df['Month'] / 12)\n",
        "df['Day_sin'] = np.sin(2 * np.pi * df['Day'] /365.25)\n",
        "df['Month_cos'] = np.cos(2 * np.pi * df['Month'] / 12)\n",
        "df['Day_cos'] = np.cos(2 * np.pi * df['Day'] / 365.25)\n"
      ],
      "metadata": {
        "id": "fg-6UfsSWE8q"
      },
      "execution_count": 12,
      "outputs": []
    },
    {
      "cell_type": "code",
      "source": [
        "# Convert the 'Sequence' column to a numpy array, padding if necessary\n",
        "X= np.array([np.array(seq) for seq in df['Sequence_one_hot'].values])\n",
        "\n",
        "X= np.array([seq.flatten() for seq in X])\n",
        "\n",
        "# Convert the combined numpy array to a PyTorch tensor\n",
        "X = torch.tensor(X, dtype=torch.float32)\n",
        "X = X.to(device)"
      ],
      "metadata": {
        "id": "uD4J3J73Saxz"
      },
      "execution_count": 55,
      "outputs": []
    },
    {
      "cell_type": "code",
      "source": [
        "Train_loader = DataLoader(X, batch_size=16, shuffle=False)"
      ],
      "metadata": {
        "id": "4bF1J44aSZpB"
      },
      "execution_count": 57,
      "outputs": []
    },
    {
      "cell_type": "code",
      "source": [
        "class Encoder(nn.Module):\n",
        "  def __init__(self, input_dim, hidden_dim, latent_dim):\n",
        "     super().__init__()\n",
        "     self.encoder = nn.Sequential(\n",
        "         nn.Linear(input_dim, hidden_dim),\n",
        "         nn.ReLU(),\n",
        "         nn.Linear(hidden_dim, hidden_dim // 2),\n",
        "         nn.ReLU(),\n",
        "         nn.Linear(hidden_dim // 2, hidden_dim // 4),\n",
        "         nn.ReLU(),\n",
        "         nn.Linear(hidden_dim // 4, hidden_dim // 8),\n",
        "         nn.ReLU(),\n",
        "         nn.Linear(hidden_dim // 8, latent_dim))\n",
        "\n",
        "  def forward(self, x):\n",
        "    return self.encoder(x)\n",
        "\n",
        "class Decoder(nn.Module):\n",
        "  def __init__(self, latent_dim, hidden_dim, output_dim):\n",
        "     super().__init__()\n",
        "     self.decoder = nn.Sequential(\n",
        "         nn.Linear(latent_dim, hidden_dim // 8),\n",
        "         nn.ReLU(),\n",
        "         nn.Linear(hidden_dim // 8, hidden_dim // 4),\n",
        "         nn.ReLU(),\n",
        "         nn.Linear(hidden_dim // 4, hidden_dim // 2),\n",
        "         nn.ReLU(),\n",
        "         nn.Linear(hidden_dim // 2, hidden_dim),\n",
        "         nn.ReLU(),\n",
        "         nn.Linear(hidden_dim, output_dim))\n",
        "  def forward(self, x):\n",
        "    return self.decoder(x)"
      ],
      "metadata": {
        "id": "KTL3eU5tchSs"
      },
      "execution_count": 50,
      "outputs": []
    },
    {
      "cell_type": "code",
      "source": [
        "encoder = Encoder(input_dim=X.shape[1], hidden_dim=128, latent_dim=2).to(device)\n",
        "decoder = Decoder(2, 128, X.shape[1]).to(device)\n",
        "optimizer = optim.Adam(list(encoder.parameters()) + list(decoder.parameters()), lr=0.0001)\n",
        "criterion = nn.MSELoss()\n",
        "epochs = 100\n",
        "bar = tqdm(range(epochs))\n",
        "for epoch in bar:\n",
        "    epoch_loss = 0.0\n",
        "    for batch in Train_loader:\n",
        "\n",
        "        batch = batch.to(device)\n",
        "        optimizer.zero_grad()\n",
        "        encoded = encoder(batch)\n",
        "        decoded = decoder(encoded)\n",
        "        loss = criterion(decoded, batch)\n",
        "        loss.backward()\n",
        "        epoch_loss += loss.item()\n",
        "        optimizer.step()\n",
        "    epoch_loss /= len(Train_loader)\n",
        "    bar.set_description(f'Epoch [{epoch+1}/{epochs}], Loss: {epoch_loss:.4f}')"
      ],
      "metadata": {
        "colab": {
          "base_uri": "https://localhost:8080/"
        },
        "id": "sNsEdH-Ad7uI",
        "outputId": "3a25e4c4-b05d-495d-93e3-d889972bc758"
      },
      "execution_count": 58,
      "outputs": [
        {
          "output_type": "stream",
          "name": "stdout",
          "text": [
            "Epoch [1/100], Loss: 0.1687\n",
            "Epoch [2/100], Loss: 0.1244\n",
            "Epoch [3/100], Loss: 0.1176\n",
            "Epoch [4/100], Loss: 0.1074\n",
            "Epoch [5/100], Loss: 0.0861\n",
            "Epoch [6/100], Loss: 0.0652\n",
            "Epoch [7/100], Loss: 0.0328\n",
            "Epoch [8/100], Loss: 0.0218\n",
            "Epoch [9/100], Loss: 0.0193\n",
            "Epoch [10/100], Loss: 0.0184\n",
            "Epoch [11/100], Loss: 0.0182\n",
            "Epoch [12/100], Loss: 0.0182\n",
            "Epoch [13/100], Loss: 0.0181\n",
            "Epoch [14/100], Loss: 0.0176\n",
            "Epoch [15/100], Loss: 0.0159\n",
            "Epoch [16/100], Loss: 0.0100\n",
            "Epoch [17/100], Loss: 0.0080\n",
            "Epoch [18/100], Loss: 0.0077\n",
            "Epoch [19/100], Loss: 0.0077\n",
            "Epoch [20/100], Loss: 0.0076\n",
            "Epoch [21/100], Loss: 0.0076\n",
            "Epoch [22/100], Loss: 0.0076\n",
            "Epoch [23/100], Loss: 0.0076\n",
            "Epoch [24/100], Loss: 0.0077\n",
            "Epoch [25/100], Loss: 0.0077\n",
            "Epoch [26/100], Loss: 0.0077\n",
            "Epoch [27/100], Loss: 0.0076\n",
            "Epoch [28/100], Loss: 0.0076\n",
            "Epoch [29/100], Loss: 0.0076\n",
            "Epoch [30/100], Loss: 0.0076\n",
            "Epoch [31/100], Loss: 0.0076\n",
            "Epoch [32/100], Loss: 0.0076\n",
            "Epoch [33/100], Loss: 0.0076\n",
            "Epoch [34/100], Loss: 0.0076\n",
            "Epoch [35/100], Loss: 0.0076\n",
            "Epoch [36/100], Loss: 0.0075\n",
            "Epoch [37/100], Loss: 0.0075\n",
            "Epoch [38/100], Loss: 0.0075\n",
            "Epoch [39/100], Loss: 0.0075\n",
            "Epoch [40/100], Loss: 0.0074\n",
            "Epoch [41/100], Loss: 0.0074\n",
            "Epoch [42/100], Loss: 0.0073\n",
            "Epoch [43/100], Loss: 0.0071\n",
            "Epoch [44/100], Loss: 0.0070\n",
            "Epoch [45/100], Loss: 0.0068\n",
            "Epoch [46/100], Loss: 0.0066\n",
            "Epoch [47/100], Loss: 0.0064\n",
            "Epoch [48/100], Loss: 0.0063\n",
            "Epoch [49/100], Loss: 0.0062\n",
            "Epoch [50/100], Loss: 0.0061\n",
            "Epoch [51/100], Loss: 0.0061\n",
            "Epoch [52/100], Loss: 0.0061\n",
            "Epoch [53/100], Loss: 0.0060\n",
            "Epoch [54/100], Loss: 0.0060\n",
            "Epoch [55/100], Loss: 0.0060\n",
            "Epoch [56/100], Loss: 0.0060\n",
            "Epoch [57/100], Loss: 0.0059\n",
            "Epoch [58/100], Loss: 0.0059\n",
            "Epoch [59/100], Loss: 0.0058\n",
            "Epoch [60/100], Loss: 0.0057\n",
            "Epoch [61/100], Loss: 0.0057\n",
            "Epoch [62/100], Loss: 0.0056\n",
            "Epoch [63/100], Loss: 0.0055\n",
            "Epoch [64/100], Loss: 0.0053\n",
            "Epoch [65/100], Loss: 0.0052\n",
            "Epoch [66/100], Loss: 0.0050\n",
            "Epoch [67/100], Loss: 0.0049\n",
            "Epoch [68/100], Loss: 0.0048\n",
            "Epoch [69/100], Loss: 0.0047\n",
            "Epoch [70/100], Loss: 0.0047\n",
            "Epoch [71/100], Loss: 0.0046\n",
            "Epoch [72/100], Loss: 0.0046\n",
            "Epoch [73/100], Loss: 0.0046\n",
            "Epoch [74/100], Loss: 0.0045\n",
            "Epoch [75/100], Loss: 0.0045\n",
            "Epoch [76/100], Loss: 0.0045\n",
            "Epoch [77/100], Loss: 0.0045\n",
            "Epoch [78/100], Loss: 0.0045\n",
            "Epoch [79/100], Loss: 0.0045\n",
            "Epoch [80/100], Loss: 0.0045\n",
            "Epoch [81/100], Loss: 0.0045\n",
            "Epoch [82/100], Loss: 0.0045\n",
            "Epoch [83/100], Loss: 0.0044\n",
            "Epoch [84/100], Loss: 0.0044\n",
            "Epoch [85/100], Loss: 0.0044\n",
            "Epoch [86/100], Loss: 0.0044\n",
            "Epoch [87/100], Loss: 0.0043\n",
            "Epoch [88/100], Loss: 0.0043\n",
            "Epoch [89/100], Loss: 0.0042\n",
            "Epoch [90/100], Loss: 0.0042\n",
            "Epoch [91/100], Loss: 0.0042\n",
            "Epoch [92/100], Loss: 0.0041\n",
            "Epoch [93/100], Loss: 0.0041\n",
            "Epoch [94/100], Loss: 0.0041\n",
            "Epoch [95/100], Loss: 0.0041\n",
            "Epoch [96/100], Loss: 0.0041\n",
            "Epoch [97/100], Loss: 0.0042\n",
            "Epoch [98/100], Loss: 0.0042\n",
            "Epoch [99/100], Loss: 0.0042\n",
            "Epoch [100/100], Loss: 0.0042\n"
          ]
        }
      ]
    },
    {
      "cell_type": "code",
      "source": [
        "with torch.no_grad():\n",
        "  latent = encoder(X)\n",
        "latent = latent.cpu().numpy()\n",
        "\n",
        "df['Latent'] = latent.tolist()"
      ],
      "metadata": {
        "id": "-ngRWwo2foRp"
      },
      "execution_count": 60,
      "outputs": []
    },
    {
      "cell_type": "code",
      "metadata": {
        "colab": {
          "base_uri": "https://localhost:8080/",
          "height": 718
        },
        "id": "7f962644",
        "outputId": "ee102f35-a65b-4853-da0a-775f7d6f4c58"
      },
      "source": [
        "import matplotlib.pyplot as plt\n",
        "import matplotlib.cm as cm\n",
        "import numpy as np\n",
        "\n",
        "# Get unique genotypes and assign a color to each\n",
        "unique_genotypes = df['Genotype'].unique()\n",
        "colors = cm.get_cmap('viridis', len(unique_genotypes)) # Using viridis colormap\n",
        "\n",
        "# Create a dictionary to map genotypes to colors\n",
        "genotype_color_map = {genotype: colors(i) for i, genotype in enumerate(unique_genotypes)}\n",
        "\n",
        "# Prepare color list for scatter plot based on genotype\n",
        "point_colors = [genotype_color_map[genotype] for genotype in df['Genotype']]\n",
        "\n",
        "\n",
        "plt.figure(figsize=(10, 8))\n",
        "for i in range(len(df)):\n",
        "  plt.scatter(df['Latent'].iloc[i][0], df['Latent'].iloc[i][1], color=point_colors[i], label=df['Genotype'].iloc[i] if i < len(unique_genotypes) else \"\") # Use 'color' with mapped colors\n",
        "\n",
        "# Create a legend\n",
        "handles = [plt.Line2D([], [], marker='o', color=genotype_color_map[genotype], linestyle='None', markersize=5, label=genotype) for genotype in unique_genotypes]\n",
        "plt.legend(handles=handles, title=\"Genotype\")\n",
        "\n",
        "\n",
        "plt.xlabel('Latent Dimension 1')\n",
        "plt.ylabel('Latent Dimension 2')\n",
        "plt.title('Latent Space Visualization by Genotype')\n",
        "plt.grid(True)\n",
        "plt.show()"
      ],
      "execution_count": 61,
      "outputs": [
        {
          "output_type": "display_data",
          "data": {
            "text/plain": [
              "<Figure size 1000x800 with 1 Axes>"
            ],
            "image/png": "[encoded data removed]"
          },
          "metadata": {}
        }
      ]
    },
    {
      "cell_type": "code",
      "source": [
        "r0 = pd.read_excel('/content/R0 data (3).xlsx', sheet_name= 'gp hours')"
      ],
      "metadata": {
        "id": "0UY2_bPxjTjK"
      },
      "execution_count": 63,
      "outputs": []
    },
    {
      "cell_type": "code",
      "source": [],
      "metadata": {
        "id": "RZP_uzrNiAni"
      },
      "execution_count": null,
      "outputs": []
    }
  ]
}